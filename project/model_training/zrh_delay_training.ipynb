{
 "cells": [
  {
   "cell_type": "markdown",
   "id": "d5aa66da",
   "metadata": {},
   "source": [
    "# Compare Linear Regression with Random Forest"
   ]
  },
  {
   "cell_type": "markdown",
   "id": "96edde9a",
   "metadata": {},
   "source": [
    "## Libraries and settings"
   ]
  },
  {
   "cell_type": "code",
   "execution_count": 43,
   "id": "07d6b462",
   "metadata": {},
   "outputs": [],
   "source": [
    "# Libraries\n",
    "import numpy as np\n",
    "import pandas as pd\n",
    "import matplotlib.pyplot as plt\n",
    "import seaborn as sns\n",
    "from sklearn.ensemble import RandomForestRegressor\n",
    "from sklearn.linear_model import LinearRegression\n",
    "from sklearn.model_selection import train_test_split, cross_val_score\n",
    "from sklearn.metrics import root_mean_squared_error\n",
    "import gradio as gr\n",
    "from datetime import datetime"
   ]
  },
  {
   "cell_type": "markdown",
   "id": "4cb7da55",
   "metadata": {},
   "source": [
    "## Import the flight delay data"
   ]
  },
  {
   "cell_type": "code",
   "execution_count": 2,
   "id": "7a8048c6",
   "metadata": {},
   "outputs": [
    {
     "name": "stdout",
     "output_type": "stream",
     "text": [
      "(2918, 21)\n"
     ]
    },
    {
     "data": {
      "text/html": [
       "<div>\n",
       "<style scoped>\n",
       "    .dataframe tbody tr th:only-of-type {\n",
       "        vertical-align: middle;\n",
       "    }\n",
       "\n",
       "    .dataframe tbody tr th {\n",
       "        vertical-align: top;\n",
       "    }\n",
       "\n",
       "    .dataframe thead th {\n",
       "        text-align: right;\n",
       "    }\n",
       "</style>\n",
       "<table border=\"1\" class=\"dataframe\">\n",
       "  <thead>\n",
       "    <tr style=\"text-align: right;\">\n",
       "      <th></th>\n",
       "      <th>DESTINATION</th>\n",
       "      <th>IATA_CODE</th>\n",
       "      <th>AIRLINE</th>\n",
       "      <th>AIRCRAFT</th>\n",
       "      <th>DATETIME</th>\n",
       "      <th>DEPART_TIME</th>\n",
       "      <th>DEPART_DATETIME</th>\n",
       "      <th>DELAY_MINUTES</th>\n",
       "      <th>DATETIME_HOUR</th>\n",
       "      <th>Weather_Condition</th>\n",
       "      <th>...</th>\n",
       "      <th>Dew_Point</th>\n",
       "      <th>Relative_Humidity</th>\n",
       "      <th>Total_Precipitation</th>\n",
       "      <th>Wind_Direction</th>\n",
       "      <th>Average_Wind_Speed</th>\n",
       "      <th>Wind_Peak_Gust</th>\n",
       "      <th>SeaLevel_Air_Pressure</th>\n",
       "      <th>DEST_CODE</th>\n",
       "      <th>AIRLINE_CODE</th>\n",
       "      <th>AIRCRAFT_CODE</th>\n",
       "    </tr>\n",
       "  </thead>\n",
       "  <tbody>\n",
       "    <tr>\n",
       "      <th>0</th>\n",
       "      <td>Larnaca</td>\n",
       "      <td>LCA</td>\n",
       "      <td>Edelweiss Air</td>\n",
       "      <td>A320</td>\n",
       "      <td>2025-04-28 05:45:00</td>\n",
       "      <td>06:02</td>\n",
       "      <td>2025-04-28 06:02:00</td>\n",
       "      <td>17</td>\n",
       "      <td>2025-04-28 05:00:00</td>\n",
       "      <td>5</td>\n",
       "      <td>...</td>\n",
       "      <td>5.3</td>\n",
       "      <td>99</td>\n",
       "      <td>0</td>\n",
       "      <td>309</td>\n",
       "      <td>6</td>\n",
       "      <td>9.3</td>\n",
       "      <td>1025.3</td>\n",
       "      <td>97</td>\n",
       "      <td>38</td>\n",
       "      <td>3</td>\n",
       "    </tr>\n",
       "    <tr>\n",
       "      <th>1</th>\n",
       "      <td>Pristina</td>\n",
       "      <td>PRN</td>\n",
       "      <td>Chair Airlines</td>\n",
       "      <td>A319</td>\n",
       "      <td>2025-04-28 05:45:00</td>\n",
       "      <td>06:00</td>\n",
       "      <td>2025-04-28 06:00:00</td>\n",
       "      <td>15</td>\n",
       "      <td>2025-04-28 05:00:00</td>\n",
       "      <td>5</td>\n",
       "      <td>...</td>\n",
       "      <td>5.3</td>\n",
       "      <td>99</td>\n",
       "      <td>0</td>\n",
       "      <td>309</td>\n",
       "      <td>6</td>\n",
       "      <td>9.3</td>\n",
       "      <td>1025.3</td>\n",
       "      <td>153</td>\n",
       "      <td>30</td>\n",
       "      <td>2</td>\n",
       "    </tr>\n",
       "    <tr>\n",
       "      <th>2</th>\n",
       "      <td>Olbia</td>\n",
       "      <td>OLB</td>\n",
       "      <td>Edelweiss Air</td>\n",
       "      <td>A320</td>\n",
       "      <td>2025-04-28 06:25:00</td>\n",
       "      <td>06:45</td>\n",
       "      <td>2025-04-28 06:45:00</td>\n",
       "      <td>20</td>\n",
       "      <td>2025-04-28 06:00:00</td>\n",
       "      <td>5</td>\n",
       "      <td>...</td>\n",
       "      <td>6.0</td>\n",
       "      <td>97</td>\n",
       "      <td>0</td>\n",
       "      <td>192</td>\n",
       "      <td>3</td>\n",
       "      <td>8.0</td>\n",
       "      <td>1025.2</td>\n",
       "      <td>138</td>\n",
       "      <td>38</td>\n",
       "      <td>3</td>\n",
       "    </tr>\n",
       "    <tr>\n",
       "      <th>3</th>\n",
       "      <td>Marrakesh</td>\n",
       "      <td>RAK</td>\n",
       "      <td>Edelweiss Air</td>\n",
       "      <td>A320</td>\n",
       "      <td>2025-04-28 06:25:00</td>\n",
       "      <td>06:35</td>\n",
       "      <td>2025-04-28 06:35:00</td>\n",
       "      <td>10</td>\n",
       "      <td>2025-04-28 06:00:00</td>\n",
       "      <td>5</td>\n",
       "      <td>...</td>\n",
       "      <td>6.0</td>\n",
       "      <td>97</td>\n",
       "      <td>0</td>\n",
       "      <td>192</td>\n",
       "      <td>3</td>\n",
       "      <td>8.0</td>\n",
       "      <td>1025.2</td>\n",
       "      <td>116</td>\n",
       "      <td>38</td>\n",
       "      <td>3</td>\n",
       "    </tr>\n",
       "    <tr>\n",
       "      <th>4</th>\n",
       "      <td>Madrid</td>\n",
       "      <td>MAD</td>\n",
       "      <td>Helvetic Airways</td>\n",
       "      <td>E295</td>\n",
       "      <td>2025-04-28 06:55:00</td>\n",
       "      <td>07:13</td>\n",
       "      <td>2025-04-28 07:13:00</td>\n",
       "      <td>18</td>\n",
       "      <td>2025-04-28 06:00:00</td>\n",
       "      <td>5</td>\n",
       "      <td>...</td>\n",
       "      <td>6.0</td>\n",
       "      <td>97</td>\n",
       "      <td>0</td>\n",
       "      <td>192</td>\n",
       "      <td>3</td>\n",
       "      <td>8.0</td>\n",
       "      <td>1025.2</td>\n",
       "      <td>108</td>\n",
       "      <td>63</td>\n",
       "      <td>47</td>\n",
       "    </tr>\n",
       "    <tr>\n",
       "      <th>5</th>\n",
       "      <td>Belgrade</td>\n",
       "      <td>BEG</td>\n",
       "      <td>Swiss</td>\n",
       "      <td>BCS3</td>\n",
       "      <td>2025-04-28 06:55:00</td>\n",
       "      <td>07:14</td>\n",
       "      <td>2025-04-28 07:14:00</td>\n",
       "      <td>19</td>\n",
       "      <td>2025-04-28 06:00:00</td>\n",
       "      <td>5</td>\n",
       "      <td>...</td>\n",
       "      <td>6.0</td>\n",
       "      <td>97</td>\n",
       "      <td>0</td>\n",
       "      <td>192</td>\n",
       "      <td>3</td>\n",
       "      <td>8.0</td>\n",
       "      <td>1025.2</td>\n",
       "      <td>17</td>\n",
       "      <td>105</td>\n",
       "      <td>25</td>\n",
       "    </tr>\n",
       "    <tr>\n",
       "      <th>6</th>\n",
       "      <td>Frankfurt</td>\n",
       "      <td>FRA</td>\n",
       "      <td>Helvetic Airways</td>\n",
       "      <td>E190</td>\n",
       "      <td>2025-04-28 06:55:00</td>\n",
       "      <td>07:06</td>\n",
       "      <td>2025-04-28 07:06:00</td>\n",
       "      <td>11</td>\n",
       "      <td>2025-04-28 06:00:00</td>\n",
       "      <td>5</td>\n",
       "      <td>...</td>\n",
       "      <td>6.0</td>\n",
       "      <td>97</td>\n",
       "      <td>0</td>\n",
       "      <td>192</td>\n",
       "      <td>3</td>\n",
       "      <td>8.0</td>\n",
       "      <td>1025.2</td>\n",
       "      <td>64</td>\n",
       "      <td>63</td>\n",
       "      <td>44</td>\n",
       "    </tr>\n",
       "    <tr>\n",
       "      <th>7</th>\n",
       "      <td>London</td>\n",
       "      <td>LCY</td>\n",
       "      <td>Swiss</td>\n",
       "      <td>BCS1</td>\n",
       "      <td>2025-04-28 06:55:00</td>\n",
       "      <td>07:34</td>\n",
       "      <td>2025-04-28 07:34:00</td>\n",
       "      <td>39</td>\n",
       "      <td>2025-04-28 06:00:00</td>\n",
       "      <td>5</td>\n",
       "      <td>...</td>\n",
       "      <td>6.0</td>\n",
       "      <td>97</td>\n",
       "      <td>0</td>\n",
       "      <td>192</td>\n",
       "      <td>3</td>\n",
       "      <td>8.0</td>\n",
       "      <td>1025.2</td>\n",
       "      <td>103</td>\n",
       "      <td>105</td>\n",
       "      <td>24</td>\n",
       "    </tr>\n",
       "    <tr>\n",
       "      <th>8</th>\n",
       "      <td>Palma de Mallorca</td>\n",
       "      <td>PMI</td>\n",
       "      <td>Swiss</td>\n",
       "      <td>A321</td>\n",
       "      <td>2025-04-28 06:50:00</td>\n",
       "      <td>07:11</td>\n",
       "      <td>2025-04-28 07:11:00</td>\n",
       "      <td>21</td>\n",
       "      <td>2025-04-28 06:00:00</td>\n",
       "      <td>5</td>\n",
       "      <td>...</td>\n",
       "      <td>6.0</td>\n",
       "      <td>97</td>\n",
       "      <td>0</td>\n",
       "      <td>192</td>\n",
       "      <td>3</td>\n",
       "      <td>8.0</td>\n",
       "      <td>1025.2</td>\n",
       "      <td>144</td>\n",
       "      <td>105</td>\n",
       "      <td>4</td>\n",
       "    </tr>\n",
       "    <tr>\n",
       "      <th>9</th>\n",
       "      <td>Brindisi</td>\n",
       "      <td>BDS</td>\n",
       "      <td>Swiss</td>\n",
       "      <td>A320</td>\n",
       "      <td>2025-04-28 06:50:00</td>\n",
       "      <td>07:17</td>\n",
       "      <td>2025-04-28 07:17:00</td>\n",
       "      <td>27</td>\n",
       "      <td>2025-04-28 06:00:00</td>\n",
       "      <td>5</td>\n",
       "      <td>...</td>\n",
       "      <td>6.0</td>\n",
       "      <td>97</td>\n",
       "      <td>0</td>\n",
       "      <td>192</td>\n",
       "      <td>3</td>\n",
       "      <td>8.0</td>\n",
       "      <td>1025.2</td>\n",
       "      <td>31</td>\n",
       "      <td>105</td>\n",
       "      <td>3</td>\n",
       "    </tr>\n",
       "  </tbody>\n",
       "</table>\n",
       "<p>10 rows × 21 columns</p>\n",
       "</div>"
      ],
      "text/plain": [
       "         DESTINATION IATA_CODE           AIRLINE AIRCRAFT  \\\n",
       "0            Larnaca       LCA     Edelweiss Air     A320   \n",
       "1           Pristina       PRN    Chair Airlines     A319   \n",
       "2              Olbia       OLB     Edelweiss Air     A320   \n",
       "3          Marrakesh       RAK     Edelweiss Air     A320   \n",
       "4             Madrid       MAD  Helvetic Airways     E295   \n",
       "5           Belgrade       BEG             Swiss     BCS3   \n",
       "6          Frankfurt       FRA  Helvetic Airways     E190   \n",
       "7             London       LCY             Swiss     BCS1   \n",
       "8  Palma de Mallorca       PMI             Swiss     A321   \n",
       "9           Brindisi       BDS             Swiss     A320   \n",
       "\n",
       "              DATETIME DEPART_TIME      DEPART_DATETIME  DELAY_MINUTES  \\\n",
       "0  2025-04-28 05:45:00       06:02  2025-04-28 06:02:00             17   \n",
       "1  2025-04-28 05:45:00       06:00  2025-04-28 06:00:00             15   \n",
       "2  2025-04-28 06:25:00       06:45  2025-04-28 06:45:00             20   \n",
       "3  2025-04-28 06:25:00       06:35  2025-04-28 06:35:00             10   \n",
       "4  2025-04-28 06:55:00       07:13  2025-04-28 07:13:00             18   \n",
       "5  2025-04-28 06:55:00       07:14  2025-04-28 07:14:00             19   \n",
       "6  2025-04-28 06:55:00       07:06  2025-04-28 07:06:00             11   \n",
       "7  2025-04-28 06:55:00       07:34  2025-04-28 07:34:00             39   \n",
       "8  2025-04-28 06:50:00       07:11  2025-04-28 07:11:00             21   \n",
       "9  2025-04-28 06:50:00       07:17  2025-04-28 07:17:00             27   \n",
       "\n",
       "         DATETIME_HOUR  Weather_Condition  ...  Dew_Point  Relative_Humidity  \\\n",
       "0  2025-04-28 05:00:00                  5  ...        5.3                 99   \n",
       "1  2025-04-28 05:00:00                  5  ...        5.3                 99   \n",
       "2  2025-04-28 06:00:00                  5  ...        6.0                 97   \n",
       "3  2025-04-28 06:00:00                  5  ...        6.0                 97   \n",
       "4  2025-04-28 06:00:00                  5  ...        6.0                 97   \n",
       "5  2025-04-28 06:00:00                  5  ...        6.0                 97   \n",
       "6  2025-04-28 06:00:00                  5  ...        6.0                 97   \n",
       "7  2025-04-28 06:00:00                  5  ...        6.0                 97   \n",
       "8  2025-04-28 06:00:00                  5  ...        6.0                 97   \n",
       "9  2025-04-28 06:00:00                  5  ...        6.0                 97   \n",
       "\n",
       "   Total_Precipitation  Wind_Direction  Average_Wind_Speed  Wind_Peak_Gust  \\\n",
       "0                    0             309                   6             9.3   \n",
       "1                    0             309                   6             9.3   \n",
       "2                    0             192                   3             8.0   \n",
       "3                    0             192                   3             8.0   \n",
       "4                    0             192                   3             8.0   \n",
       "5                    0             192                   3             8.0   \n",
       "6                    0             192                   3             8.0   \n",
       "7                    0             192                   3             8.0   \n",
       "8                    0             192                   3             8.0   \n",
       "9                    0             192                   3             8.0   \n",
       "\n",
       "   SeaLevel_Air_Pressure  DEST_CODE  AIRLINE_CODE  AIRCRAFT_CODE  \n",
       "0                 1025.3         97            38              3  \n",
       "1                 1025.3        153            30              2  \n",
       "2                 1025.2        138            38              3  \n",
       "3                 1025.2        116            38              3  \n",
       "4                 1025.2        108            63             47  \n",
       "5                 1025.2         17           105             25  \n",
       "6                 1025.2         64            63             44  \n",
       "7                 1025.2        103           105             24  \n",
       "8                 1025.2        144           105              4  \n",
       "9                 1025.2         31           105              3  \n",
       "\n",
       "[10 rows x 21 columns]"
      ]
     },
     "execution_count": 2,
     "metadata": {},
     "output_type": "execute_result"
    }
   ],
   "source": [
    "# Read and select variables\n",
    "df_orig = pd.read_csv(\"zrh_flightdelay.csv\", sep=\",\", encoding='utf-8')\n",
    "\n",
    "# Remove missing values\n",
    "df = df_orig.dropna()\n",
    "# Remove duplicates\n",
    "df = df.drop_duplicates()\n",
    "\n",
    "print(df.shape)\n",
    "df.head(10)"
   ]
  },
  {
   "cell_type": "code",
   "execution_count": 3,
   "id": "cc461810",
   "metadata": {},
   "outputs": [
    {
     "name": "stdout",
     "output_type": "stream",
     "text": [
      "Index(['DESTINATION', 'IATA_CODE', 'AIRLINE', 'AIRCRAFT', 'DATETIME',\n",
      "       'DEPART_TIME', 'DEPART_DATETIME', 'DELAY_MINUTES', 'DATETIME_HOUR',\n",
      "       'Weather_Condition', 'Temperature', 'Dew_Point', 'Relative_Humidity',\n",
      "       'Total_Precipitation', 'Wind_Direction', 'Average_Wind_Speed',\n",
      "       'Wind_Peak_Gust', 'SeaLevel_Air_Pressure', 'DEST_CODE', 'AIRLINE_CODE',\n",
      "       'AIRCRAFT_CODE'],\n",
      "      dtype='object')\n"
     ]
    }
   ],
   "source": [
    "print(df.columns)"
   ]
  },
  {
   "cell_type": "markdown",
   "id": "c4c84db1",
   "metadata": {},
   "source": [
    "## Train/Test splitting"
   ]
  },
  {
   "cell_type": "code",
   "execution_count": 4,
   "id": "70392669",
   "metadata": {},
   "outputs": [],
   "source": [
    "# Create train and test samples\n",
    "X_train, X_test, y_train, y_test = train_test_split(df[['DEST_CODE', 'AIRLINE_CODE', 'AIRCRAFT_CODE', 'Weather_Condition', 'Temperature', 'Dew_Point', 'Relative_Humidity',\n",
    "       'Total_Precipitation', 'Wind_Direction', 'Average_Wind_Speed', 'Wind_Peak_Gust', 'SeaLevel_Air_Pressure']], \n",
    "                                                         df['DELAY_MINUTES'], \n",
    "                                                        test_size=0.20, \n",
    "                                                        random_state=42)"
   ]
  },
  {
   "cell_type": "code",
   "execution_count": 5,
   "id": "281587a0",
   "metadata": {},
   "outputs": [
    {
     "name": "stdout",
     "output_type": "stream",
     "text": [
      "Train score:  0.025871835125259368\n",
      "Test score:  0.04120480179452801\n",
      "Train RMSE:  21.097692291379715\n",
      "Test RMSE:  22.34593308256459\n"
     ]
    }
   ],
   "source": [
    "# train linear_model = LinearRegression()\n",
    "linear_model = LinearRegression()\n",
    "\n",
    "# Fit the model\n",
    "linear_model.fit(X_train, y_train)\n",
    "print(\"Train score: \", linear_model.score(X_train, y_train))\n",
    "print(\"Test score: \", linear_model.score(X_test, y_test))\n",
    "\n",
    "print(\"Train RMSE: \", root_mean_squared_error(y_train, linear_model.predict(X_train)))\n",
    "print(\"Test RMSE: \", root_mean_squared_error(y_test, linear_model.predict(X_test)))\n",
    " "
   ]
  },
  {
   "cell_type": "code",
   "execution_count": 6,
   "id": "bb5fe1ab",
   "metadata": {},
   "outputs": [
    {
     "name": "stdout",
     "output_type": "stream",
     "text": [
      "Train score:  0.6420105715299655\n",
      "Test score:  0.017690523245318834\n",
      "Train RMSE:  12.789748507062992\n",
      "Test RMSE:  22.618288311962846\n"
     ]
    }
   ],
   "source": [
    "# train random_forest_model = RandomForestRegressor()\n",
    "random_forest_model = RandomForestRegressor(random_state=42)\n",
    "\n",
    "# Fit the model\n",
    "random_forest_model.fit(X_train, y_train)\n",
    "print(\"Train score: \", random_forest_model.score(X_train, y_train))\n",
    "print(\"Test score: \", random_forest_model.score(X_test, y_test))\n",
    "\n",
    "print(\"Train RMSE: \", root_mean_squared_error(y_train, random_forest_model.predict(X_train)))\n",
    "print(\"Test RMSE: \", root_mean_squared_error(y_test, random_forest_model.predict(X_test)))"
   ]
  },
  {
   "cell_type": "code",
   "execution_count": 7,
   "id": "5ed44d2d",
   "metadata": {},
   "outputs": [
    {
     "name": "stdout",
     "output_type": "stream",
     "text": [
      "['DEST_CODE' 'AIRCRAFT_CODE' 'AIRLINE_CODE' 'Wind_Direction' 'Dew_Point'\n",
      " 'SeaLevel_Air_Pressure' 'Wind_Peak_Gust' 'Relative_Humidity'\n",
      " 'Temperature' 'Average_Wind_Speed' 'Weather_Condition'\n",
      " 'Total_Precipitation']\n",
      "[0.33814612 0.22575118 0.18730929 0.05357132 0.03469326 0.03273114\n",
      " 0.03229315 0.03171623 0.02910055 0.02610793 0.00857984 0.        ]\n"
     ]
    },
    {
     "data": {
      "text/plain": [
       "<Axes: ylabel='features'>"
      ]
     },
     "execution_count": 7,
     "metadata": {},
     "output_type": "execute_result"
    },
    {
     "data": {
      "image/png": "[encoded data removed]",
      "text/plain": [
       "<Figure size 600x300 with 1 Axes>"
      ]
     },
     "metadata": {},
     "output_type": "display_data"
    }
   ],
   "source": [
    "cols = random_forest_model.feature_names_in_\n",
    "\n",
    "# Derive feature importance from random forest\n",
    "importances = random_forest_model.feature_importances_\n",
    "std         = np.std([tree.feature_importances_ for tree in random_forest_model.estimators_], axis=0)\n",
    "indices     = np.argsort(importances)[::-1]\n",
    "\n",
    "# Print col-names and importances-values\n",
    "print( cols[indices] )\n",
    "print( importances[indices] )\n",
    "\n",
    "# Barplot with feature importance\n",
    "df_fi = pd.DataFrame({'features':cols,'importances': importances})\n",
    "df_fi.sort_values('importances', inplace=True)\n",
    "df_fi.plot(kind='barh', \n",
    "           y='importances',\n",
    "           x='features', \n",
    "           color='darkred', \n",
    "           figsize=(6,3))"
   ]
  },
  {
   "cell_type": "code",
   "execution_count": 8,
   "id": "beb54632",
   "metadata": {},
   "outputs": [
    {
     "data": {
      "image/png": "[encoded data removed]",
      "text/plain": [
       "<Figure size 1200x600 with 1 Axes>"
      ]
     },
     "metadata": {},
     "output_type": "display_data"
    }
   ],
   "source": [
    "plt.figure(figsize=(12, 6))\n",
    "sns.histplot(df[\"DELAY_MINUTES\"], bins=50, kde=False, color=\"skyblue\")\n",
    "\n",
    "plt.title(\"Verteilung der Verspätungsminuten (DELAY_MINUTES)\")\n",
    "plt.xlabel(\"Verspätung in Minuten\")\n",
    "plt.ylabel(\"Anzahl Flüge\")\n",
    "plt.grid(True)\n",
    "plt.show()\n"
   ]
  },
  {
   "cell_type": "code",
   "execution_count": 9,
   "id": "c63308ee",
   "metadata": {},
   "outputs": [],
   "source": [
    "# Negative Werte auf 0 setzen\n",
    "df[\"DELAY_MINUTES\"] = df[\"DELAY_MINUTES\"].clip(lower=0)\n",
    "\n",
    "# Zeilen mit mehr als 120 Minuten Verspätung entfernen\n",
    "df = df[df[\"DELAY_MINUTES\"] <= 120]\n"
   ]
  },
  {
   "cell_type": "code",
   "execution_count": 10,
   "id": "eb77e285",
   "metadata": {},
   "outputs": [
    {
     "data": {
      "image/png": "[encoded data removed]",
      "text/plain": [
       "<Figure size 1200x600 with 1 Axes>"
      ]
     },
     "metadata": {},
     "output_type": "display_data"
    }
   ],
   "source": [
    "plt.figure(figsize=(12, 6))\n",
    "sns.histplot(df[\"DELAY_MINUTES\"], bins=50, kde=False, color=\"skyblue\")\n",
    "\n",
    "plt.title(\"Verteilung der Verspätungsminuten (DELAY_MINUTES)\")\n",
    "plt.xlabel(\"Verspätung in Minuten\")\n",
    "plt.ylabel(\"Anzahl Flüge\")\n",
    "plt.grid(True)\n",
    "plt.show()\n"
   ]
  },
  {
   "cell_type": "code",
   "execution_count": 11,
   "id": "619919f6",
   "metadata": {},
   "outputs": [
    {
     "data": {
      "text/plain": [
       "(2892, 21)"
      ]
     },
     "execution_count": 11,
     "metadata": {},
     "output_type": "execute_result"
    }
   ],
   "source": [
    "df.shape"
   ]
  },
  {
   "cell_type": "code",
   "execution_count": 12,
   "id": "a9be734f",
   "metadata": {},
   "outputs": [],
   "source": [
    "# Create train and test samples\n",
    "X_train, X_test, y_train, y_test = train_test_split(df[['DEST_CODE', 'AIRLINE_CODE', 'AIRCRAFT_CODE', 'Weather_Condition', 'Temperature', 'Dew_Point', 'Relative_Humidity',\n",
    "       'Total_Precipitation', 'Wind_Direction', 'Average_Wind_Speed', 'Wind_Peak_Gust', 'SeaLevel_Air_Pressure']], \n",
    "                                                         df['DELAY_MINUTES'], \n",
    "                                                        test_size=0.20, \n",
    "                                                        random_state=42)"
   ]
  },
  {
   "cell_type": "code",
   "execution_count": 13,
   "id": "27d0e6f8",
   "metadata": {},
   "outputs": [
    {
     "name": "stdout",
     "output_type": "stream",
     "text": [
      "Train score:  0.037516017331170826\n",
      "Test score:  0.026118627529029936\n",
      "Train RMSE:  17.766279668560657\n",
      "Test RMSE:  17.038285649771538\n"
     ]
    }
   ],
   "source": [
    "# train linear_model = LinearRegression()\n",
    "linear_model = LinearRegression()\n",
    "\n",
    "# Fit the model\n",
    "linear_model.fit(X_train, y_train)\n",
    "print(\"Train score: \", linear_model.score(X_train, y_train))\n",
    "print(\"Test score: \", linear_model.score(X_test, y_test))\n",
    "\n",
    "print(\"Train RMSE: \", root_mean_squared_error(y_train, linear_model.predict(X_train)))\n",
    "print(\"Test RMSE: \", root_mean_squared_error(y_test, linear_model.predict(X_test)))\n",
    " "
   ]
  },
  {
   "cell_type": "code",
   "execution_count": 14,
   "id": "6793b809",
   "metadata": {},
   "outputs": [
    {
     "name": "stdout",
     "output_type": "stream",
     "text": [
      "Train score:  0.62167229640718\n",
      "Test score:  -0.17325039477314652\n",
      "Train RMSE:  11.138682144353048\n",
      "Test RMSE:  18.70114596408582\n"
     ]
    }
   ],
   "source": [
    "# train random_forest_model = RandomForestRegressor()\n",
    "random_forest_model = RandomForestRegressor(random_state=42)\n",
    "\n",
    "# Fit the model\n",
    "random_forest_model.fit(X_train, y_train)\n",
    "print(\"Train score: \", random_forest_model.score(X_train, y_train))\n",
    "print(\"Test score: \", random_forest_model.score(X_test, y_test))\n",
    "\n",
    "print(\"Train RMSE: \", root_mean_squared_error(y_train, random_forest_model.predict(X_train)))\n",
    "print(\"Test RMSE: \", root_mean_squared_error(y_test, random_forest_model.predict(X_test)))"
   ]
  },
  {
   "cell_type": "code",
   "execution_count": 15,
   "id": "d41e258e",
   "metadata": {},
   "outputs": [
    {
     "name": "stdout",
     "output_type": "stream",
     "text": [
      "['DEST_CODE' 'AIRCRAFT_CODE' 'AIRLINE_CODE' 'Wind_Direction'\n",
      " 'SeaLevel_Air_Pressure' 'Relative_Humidity' 'Temperature' 'Dew_Point'\n",
      " 'Wind_Peak_Gust' 'Average_Wind_Speed' 'Weather_Condition'\n",
      " 'Total_Precipitation']\n",
      "[0.3563336  0.2351432  0.17993422 0.05095996 0.04342001 0.02897085\n",
      " 0.0271214  0.02609216 0.02344452 0.01933062 0.00924946 0.        ]\n"
     ]
    },
    {
     "data": {
      "text/plain": [
       "<Axes: ylabel='features'>"
      ]
     },
     "execution_count": 15,
     "metadata": {},
     "output_type": "execute_result"
    },
    {
     "data": {
      "image/png": "[encoded data removed]",
      "text/plain": [
       "<Figure size 600x300 with 1 Axes>"
      ]
     },
     "metadata": {},
     "output_type": "display_data"
    }
   ],
   "source": [
    "cols = random_forest_model.feature_names_in_\n",
    "\n",
    "# Derive feature importance from random forest\n",
    "importances = random_forest_model.feature_importances_\n",
    "std         = np.std([tree.feature_importances_ for tree in random_forest_model.estimators_], axis=0)\n",
    "indices     = np.argsort(importances)[::-1]\n",
    "\n",
    "# Print col-names and importances-values\n",
    "print( cols[indices] )\n",
    "print( importances[indices] )\n",
    "\n",
    "# Barplot with feature importance\n",
    "df_fi = pd.DataFrame({'features':cols,'importances': importances})\n",
    "df_fi.sort_values('importances', inplace=True)\n",
    "df_fi.plot(kind='barh', \n",
    "           y='importances',\n",
    "           x='features', \n",
    "           color='darkred', \n",
    "           figsize=(6,3))"
   ]
  },
  {
   "cell_type": "code",
   "execution_count": 16,
   "id": "b2d9f154",
   "metadata": {},
   "outputs": [],
   "source": [
    "# Schritt 1: In datetime-Format umwandeln (falls noch nicht geschehen)\n",
    "df[\"DATETIME\"] = pd.to_datetime(df[\"DATETIME\"])\n",
    "\n",
    "# Schritt 2: Neue Spalte mit Wochentagszahl hinzufügen (Montag = 0, Sonntag = 6)\n",
    "df[\"Weekday\"] = df[\"DATETIME\"].dt.weekday\n",
    "\n",
    "# Weekday name\n",
    "df[\"Weekday_name\"] = df[\"DATETIME\"].dt.day_name()\n",
    "\n"
   ]
  },
  {
   "cell_type": "code",
   "execution_count": 17,
   "id": "b22d4cb9",
   "metadata": {},
   "outputs": [
    {
     "data": {
      "text/html": [
       "<div>\n",
       "<style scoped>\n",
       "    .dataframe tbody tr th:only-of-type {\n",
       "        vertical-align: middle;\n",
       "    }\n",
       "\n",
       "    .dataframe tbody tr th {\n",
       "        vertical-align: top;\n",
       "    }\n",
       "\n",
       "    .dataframe thead th {\n",
       "        text-align: right;\n",
       "    }\n",
       "</style>\n",
       "<table border=\"1\" class=\"dataframe\">\n",
       "  <thead>\n",
       "    <tr style=\"text-align: right;\">\n",
       "      <th></th>\n",
       "      <th>DESTINATION</th>\n",
       "      <th>IATA_CODE</th>\n",
       "      <th>AIRLINE</th>\n",
       "      <th>AIRCRAFT</th>\n",
       "      <th>DATETIME</th>\n",
       "      <th>DEPART_TIME</th>\n",
       "      <th>DEPART_DATETIME</th>\n",
       "      <th>DELAY_MINUTES</th>\n",
       "      <th>DATETIME_HOUR</th>\n",
       "      <th>Weather_Condition</th>\n",
       "      <th>...</th>\n",
       "      <th>Total_Precipitation</th>\n",
       "      <th>Wind_Direction</th>\n",
       "      <th>Average_Wind_Speed</th>\n",
       "      <th>Wind_Peak_Gust</th>\n",
       "      <th>SeaLevel_Air_Pressure</th>\n",
       "      <th>DEST_CODE</th>\n",
       "      <th>AIRLINE_CODE</th>\n",
       "      <th>AIRCRAFT_CODE</th>\n",
       "      <th>Weekday</th>\n",
       "      <th>Weekday_name</th>\n",
       "    </tr>\n",
       "  </thead>\n",
       "  <tbody>\n",
       "    <tr>\n",
       "      <th>0</th>\n",
       "      <td>Larnaca</td>\n",
       "      <td>LCA</td>\n",
       "      <td>Edelweiss Air</td>\n",
       "      <td>A320</td>\n",
       "      <td>2025-04-28 05:45:00</td>\n",
       "      <td>06:02</td>\n",
       "      <td>2025-04-28 06:02:00</td>\n",
       "      <td>17</td>\n",
       "      <td>2025-04-28 05:00:00</td>\n",
       "      <td>5</td>\n",
       "      <td>...</td>\n",
       "      <td>0</td>\n",
       "      <td>309</td>\n",
       "      <td>6</td>\n",
       "      <td>9.3</td>\n",
       "      <td>1025.3</td>\n",
       "      <td>97</td>\n",
       "      <td>38</td>\n",
       "      <td>3</td>\n",
       "      <td>0</td>\n",
       "      <td>Monday</td>\n",
       "    </tr>\n",
       "    <tr>\n",
       "      <th>1</th>\n",
       "      <td>Pristina</td>\n",
       "      <td>PRN</td>\n",
       "      <td>Chair Airlines</td>\n",
       "      <td>A319</td>\n",
       "      <td>2025-04-28 05:45:00</td>\n",
       "      <td>06:00</td>\n",
       "      <td>2025-04-28 06:00:00</td>\n",
       "      <td>15</td>\n",
       "      <td>2025-04-28 05:00:00</td>\n",
       "      <td>5</td>\n",
       "      <td>...</td>\n",
       "      <td>0</td>\n",
       "      <td>309</td>\n",
       "      <td>6</td>\n",
       "      <td>9.3</td>\n",
       "      <td>1025.3</td>\n",
       "      <td>153</td>\n",
       "      <td>30</td>\n",
       "      <td>2</td>\n",
       "      <td>0</td>\n",
       "      <td>Monday</td>\n",
       "    </tr>\n",
       "    <tr>\n",
       "      <th>2</th>\n",
       "      <td>Olbia</td>\n",
       "      <td>OLB</td>\n",
       "      <td>Edelweiss Air</td>\n",
       "      <td>A320</td>\n",
       "      <td>2025-04-28 06:25:00</td>\n",
       "      <td>06:45</td>\n",
       "      <td>2025-04-28 06:45:00</td>\n",
       "      <td>20</td>\n",
       "      <td>2025-04-28 06:00:00</td>\n",
       "      <td>5</td>\n",
       "      <td>...</td>\n",
       "      <td>0</td>\n",
       "      <td>192</td>\n",
       "      <td>3</td>\n",
       "      <td>8.0</td>\n",
       "      <td>1025.2</td>\n",
       "      <td>138</td>\n",
       "      <td>38</td>\n",
       "      <td>3</td>\n",
       "      <td>0</td>\n",
       "      <td>Monday</td>\n",
       "    </tr>\n",
       "    <tr>\n",
       "      <th>3</th>\n",
       "      <td>Marrakesh</td>\n",
       "      <td>RAK</td>\n",
       "      <td>Edelweiss Air</td>\n",
       "      <td>A320</td>\n",
       "      <td>2025-04-28 06:25:00</td>\n",
       "      <td>06:35</td>\n",
       "      <td>2025-04-28 06:35:00</td>\n",
       "      <td>10</td>\n",
       "      <td>2025-04-28 06:00:00</td>\n",
       "      <td>5</td>\n",
       "      <td>...</td>\n",
       "      <td>0</td>\n",
       "      <td>192</td>\n",
       "      <td>3</td>\n",
       "      <td>8.0</td>\n",
       "      <td>1025.2</td>\n",
       "      <td>116</td>\n",
       "      <td>38</td>\n",
       "      <td>3</td>\n",
       "      <td>0</td>\n",
       "      <td>Monday</td>\n",
       "    </tr>\n",
       "    <tr>\n",
       "      <th>4</th>\n",
       "      <td>Madrid</td>\n",
       "      <td>MAD</td>\n",
       "      <td>Helvetic Airways</td>\n",
       "      <td>E295</td>\n",
       "      <td>2025-04-28 06:55:00</td>\n",
       "      <td>07:13</td>\n",
       "      <td>2025-04-28 07:13:00</td>\n",
       "      <td>18</td>\n",
       "      <td>2025-04-28 06:00:00</td>\n",
       "      <td>5</td>\n",
       "      <td>...</td>\n",
       "      <td>0</td>\n",
       "      <td>192</td>\n",
       "      <td>3</td>\n",
       "      <td>8.0</td>\n",
       "      <td>1025.2</td>\n",
       "      <td>108</td>\n",
       "      <td>63</td>\n",
       "      <td>47</td>\n",
       "      <td>0</td>\n",
       "      <td>Monday</td>\n",
       "    </tr>\n",
       "    <tr>\n",
       "      <th>5</th>\n",
       "      <td>Belgrade</td>\n",
       "      <td>BEG</td>\n",
       "      <td>Swiss</td>\n",
       "      <td>BCS3</td>\n",
       "      <td>2025-04-28 06:55:00</td>\n",
       "      <td>07:14</td>\n",
       "      <td>2025-04-28 07:14:00</td>\n",
       "      <td>19</td>\n",
       "      <td>2025-04-28 06:00:00</td>\n",
       "      <td>5</td>\n",
       "      <td>...</td>\n",
       "      <td>0</td>\n",
       "      <td>192</td>\n",
       "      <td>3</td>\n",
       "      <td>8.0</td>\n",
       "      <td>1025.2</td>\n",
       "      <td>17</td>\n",
       "      <td>105</td>\n",
       "      <td>25</td>\n",
       "      <td>0</td>\n",
       "      <td>Monday</td>\n",
       "    </tr>\n",
       "    <tr>\n",
       "      <th>6</th>\n",
       "      <td>Frankfurt</td>\n",
       "      <td>FRA</td>\n",
       "      <td>Helvetic Airways</td>\n",
       "      <td>E190</td>\n",
       "      <td>2025-04-28 06:55:00</td>\n",
       "      <td>07:06</td>\n",
       "      <td>2025-04-28 07:06:00</td>\n",
       "      <td>11</td>\n",
       "      <td>2025-04-28 06:00:00</td>\n",
       "      <td>5</td>\n",
       "      <td>...</td>\n",
       "      <td>0</td>\n",
       "      <td>192</td>\n",
       "      <td>3</td>\n",
       "      <td>8.0</td>\n",
       "      <td>1025.2</td>\n",
       "      <td>64</td>\n",
       "      <td>63</td>\n",
       "      <td>44</td>\n",
       "      <td>0</td>\n",
       "      <td>Monday</td>\n",
       "    </tr>\n",
       "    <tr>\n",
       "      <th>7</th>\n",
       "      <td>London</td>\n",
       "      <td>LCY</td>\n",
       "      <td>Swiss</td>\n",
       "      <td>BCS1</td>\n",
       "      <td>2025-04-28 06:55:00</td>\n",
       "      <td>07:34</td>\n",
       "      <td>2025-04-28 07:34:00</td>\n",
       "      <td>39</td>\n",
       "      <td>2025-04-28 06:00:00</td>\n",
       "      <td>5</td>\n",
       "      <td>...</td>\n",
       "      <td>0</td>\n",
       "      <td>192</td>\n",
       "      <td>3</td>\n",
       "      <td>8.0</td>\n",
       "      <td>1025.2</td>\n",
       "      <td>103</td>\n",
       "      <td>105</td>\n",
       "      <td>24</td>\n",
       "      <td>0</td>\n",
       "      <td>Monday</td>\n",
       "    </tr>\n",
       "    <tr>\n",
       "      <th>8</th>\n",
       "      <td>Palma de Mallorca</td>\n",
       "      <td>PMI</td>\n",
       "      <td>Swiss</td>\n",
       "      <td>A321</td>\n",
       "      <td>2025-04-28 06:50:00</td>\n",
       "      <td>07:11</td>\n",
       "      <td>2025-04-28 07:11:00</td>\n",
       "      <td>21</td>\n",
       "      <td>2025-04-28 06:00:00</td>\n",
       "      <td>5</td>\n",
       "      <td>...</td>\n",
       "      <td>0</td>\n",
       "      <td>192</td>\n",
       "      <td>3</td>\n",
       "      <td>8.0</td>\n",
       "      <td>1025.2</td>\n",
       "      <td>144</td>\n",
       "      <td>105</td>\n",
       "      <td>4</td>\n",
       "      <td>0</td>\n",
       "      <td>Monday</td>\n",
       "    </tr>\n",
       "    <tr>\n",
       "      <th>9</th>\n",
       "      <td>Brindisi</td>\n",
       "      <td>BDS</td>\n",
       "      <td>Swiss</td>\n",
       "      <td>A320</td>\n",
       "      <td>2025-04-28 06:50:00</td>\n",
       "      <td>07:17</td>\n",
       "      <td>2025-04-28 07:17:00</td>\n",
       "      <td>27</td>\n",
       "      <td>2025-04-28 06:00:00</td>\n",
       "      <td>5</td>\n",
       "      <td>...</td>\n",
       "      <td>0</td>\n",
       "      <td>192</td>\n",
       "      <td>3</td>\n",
       "      <td>8.0</td>\n",
       "      <td>1025.2</td>\n",
       "      <td>31</td>\n",
       "      <td>105</td>\n",
       "      <td>3</td>\n",
       "      <td>0</td>\n",
       "      <td>Monday</td>\n",
       "    </tr>\n",
       "  </tbody>\n",
       "</table>\n",
       "<p>10 rows × 23 columns</p>\n",
       "</div>"
      ],
      "text/plain": [
       "         DESTINATION IATA_CODE           AIRLINE AIRCRAFT            DATETIME  \\\n",
       "0            Larnaca       LCA     Edelweiss Air     A320 2025-04-28 05:45:00   \n",
       "1           Pristina       PRN    Chair Airlines     A319 2025-04-28 05:45:00   \n",
       "2              Olbia       OLB     Edelweiss Air     A320 2025-04-28 06:25:00   \n",
       "3          Marrakesh       RAK     Edelweiss Air     A320 2025-04-28 06:25:00   \n",
       "4             Madrid       MAD  Helvetic Airways     E295 2025-04-28 06:55:00   \n",
       "5           Belgrade       BEG             Swiss     BCS3 2025-04-28 06:55:00   \n",
       "6          Frankfurt       FRA  Helvetic Airways     E190 2025-04-28 06:55:00   \n",
       "7             London       LCY             Swiss     BCS1 2025-04-28 06:55:00   \n",
       "8  Palma de Mallorca       PMI             Swiss     A321 2025-04-28 06:50:00   \n",
       "9           Brindisi       BDS             Swiss     A320 2025-04-28 06:50:00   \n",
       "\n",
       "  DEPART_TIME      DEPART_DATETIME  DELAY_MINUTES        DATETIME_HOUR  \\\n",
       "0       06:02  2025-04-28 06:02:00             17  2025-04-28 05:00:00   \n",
       "1       06:00  2025-04-28 06:00:00             15  2025-04-28 05:00:00   \n",
       "2       06:45  2025-04-28 06:45:00             20  2025-04-28 06:00:00   \n",
       "3       06:35  2025-04-28 06:35:00             10  2025-04-28 06:00:00   \n",
       "4       07:13  2025-04-28 07:13:00             18  2025-04-28 06:00:00   \n",
       "5       07:14  2025-04-28 07:14:00             19  2025-04-28 06:00:00   \n",
       "6       07:06  2025-04-28 07:06:00             11  2025-04-28 06:00:00   \n",
       "7       07:34  2025-04-28 07:34:00             39  2025-04-28 06:00:00   \n",
       "8       07:11  2025-04-28 07:11:00             21  2025-04-28 06:00:00   \n",
       "9       07:17  2025-04-28 07:17:00             27  2025-04-28 06:00:00   \n",
       "\n",
       "   Weather_Condition  ...  Total_Precipitation  Wind_Direction  \\\n",
       "0                  5  ...                    0             309   \n",
       "1                  5  ...                    0             309   \n",
       "2                  5  ...                    0             192   \n",
       "3                  5  ...                    0             192   \n",
       "4                  5  ...                    0             192   \n",
       "5                  5  ...                    0             192   \n",
       "6                  5  ...                    0             192   \n",
       "7                  5  ...                    0             192   \n",
       "8                  5  ...                    0             192   \n",
       "9                  5  ...                    0             192   \n",
       "\n",
       "   Average_Wind_Speed  Wind_Peak_Gust  SeaLevel_Air_Pressure  DEST_CODE  \\\n",
       "0                   6             9.3                 1025.3         97   \n",
       "1                   6             9.3                 1025.3        153   \n",
       "2                   3             8.0                 1025.2        138   \n",
       "3                   3             8.0                 1025.2        116   \n",
       "4                   3             8.0                 1025.2        108   \n",
       "5                   3             8.0                 1025.2         17   \n",
       "6                   3             8.0                 1025.2         64   \n",
       "7                   3             8.0                 1025.2        103   \n",
       "8                   3             8.0                 1025.2        144   \n",
       "9                   3             8.0                 1025.2         31   \n",
       "\n",
       "   AIRLINE_CODE  AIRCRAFT_CODE  Weekday  Weekday_name  \n",
       "0            38              3        0        Monday  \n",
       "1            30              2        0        Monday  \n",
       "2            38              3        0        Monday  \n",
       "3            38              3        0        Monday  \n",
       "4            63             47        0        Monday  \n",
       "5           105             25        0        Monday  \n",
       "6            63             44        0        Monday  \n",
       "7           105             24        0        Monday  \n",
       "8           105              4        0        Monday  \n",
       "9           105              3        0        Monday  \n",
       "\n",
       "[10 rows x 23 columns]"
      ]
     },
     "execution_count": 17,
     "metadata": {},
     "output_type": "execute_result"
    }
   ],
   "source": [
    "df.head(10)"
   ]
  },
  {
   "cell_type": "code",
   "execution_count": 18,
   "id": "1594f965",
   "metadata": {},
   "outputs": [],
   "source": [
    "# Create train and test samples\n",
    "X_train, X_test, y_train, y_test = train_test_split(df[['DEST_CODE', 'AIRLINE_CODE', 'AIRCRAFT_CODE', 'Weather_Condition', 'Temperature', 'Dew_Point', 'Relative_Humidity',\n",
    "       'Total_Precipitation', 'Wind_Direction', 'Average_Wind_Speed', 'Wind_Peak_Gust', 'SeaLevel_Air_Pressure', 'Weekday']], \n",
    "                                                         df['DELAY_MINUTES'], \n",
    "                                                        test_size=0.20, \n",
    "                                                        random_state=42)"
   ]
  },
  {
   "cell_type": "code",
   "execution_count": 19,
   "id": "f808f692",
   "metadata": {},
   "outputs": [
    {
     "name": "stdout",
     "output_type": "stream",
     "text": [
      "Train score:  0.03753205261228876\n",
      "Test score:  0.026183303942397984\n",
      "Train RMSE:  17.766131672084548\n",
      "Test RMSE:  17.037719875780304\n"
     ]
    }
   ],
   "source": [
    "# train linear_model = LinearRegression()\n",
    "linear_model = LinearRegression()\n",
    "\n",
    "# Fit the model\n",
    "linear_model.fit(X_train, y_train)\n",
    "print(\"Train score: \", linear_model.score(X_train, y_train))\n",
    "print(\"Test score: \", linear_model.score(X_test, y_test))\n",
    "\n",
    "print(\"Train RMSE: \", root_mean_squared_error(y_train, linear_model.predict(X_train)))\n",
    "print(\"Test RMSE: \", root_mean_squared_error(y_test, linear_model.predict(X_test)))\n",
    " "
   ]
  },
  {
   "cell_type": "code",
   "execution_count": 20,
   "id": "28d08916",
   "metadata": {},
   "outputs": [
    {
     "name": "stdout",
     "output_type": "stream",
     "text": [
      "Train score:  0.7899925706932738\n",
      "Test score:  -0.043622612689675044\n",
      "Train RMSE:  8.298833822022505\n",
      "Test RMSE:  17.63780779869483\n"
     ]
    }
   ],
   "source": [
    "# train random_forest_model = RandomForestRegressor()\n",
    "random_forest_model = RandomForestRegressor(random_state=42)\n",
    "\n",
    "# Fit the model\n",
    "random_forest_model.fit(X_train, y_train)\n",
    "print(\"Train score: \", random_forest_model.score(X_train, y_train))\n",
    "print(\"Test score: \", random_forest_model.score(X_test, y_test))\n",
    "\n",
    "print(\"Train RMSE: \", root_mean_squared_error(y_train, random_forest_model.predict(X_train)))\n",
    "print(\"Test RMSE: \", root_mean_squared_error(y_test, random_forest_model.predict(X_test)))"
   ]
  },
  {
   "cell_type": "code",
   "execution_count": 21,
   "id": "125de703",
   "metadata": {},
   "outputs": [
    {
     "name": "stdout",
     "output_type": "stream",
     "text": [
      "['DEST_CODE' 'AIRCRAFT_CODE' 'AIRLINE_CODE' 'Weekday'\n",
      " 'SeaLevel_Air_Pressure' 'Wind_Direction' 'Dew_Point' 'Wind_Peak_Gust'\n",
      " 'Temperature' 'Relative_Humidity' 'Average_Wind_Speed'\n",
      " 'Weather_Condition' 'Total_Precipitation']\n",
      "[0.3572463  0.20808263 0.17324537 0.09318884 0.03724551 0.02685708\n",
      " 0.02554748 0.02162852 0.02021252 0.0173262  0.01408597 0.00533358\n",
      " 0.        ]\n"
     ]
    },
    {
     "data": {
      "text/plain": [
       "<Axes: ylabel='features'>"
      ]
     },
     "execution_count": 21,
     "metadata": {},
     "output_type": "execute_result"
    },
    {
     "data": {
      "image/png": "[encoded data removed]",
      "text/plain": [
       "<Figure size 600x300 with 1 Axes>"
      ]
     },
     "metadata": {},
     "output_type": "display_data"
    }
   ],
   "source": [
    "cols = random_forest_model.feature_names_in_\n",
    "\n",
    "# Derive feature importance from random forest\n",
    "importances = random_forest_model.feature_importances_\n",
    "std         = np.std([tree.feature_importances_ for tree in random_forest_model.estimators_], axis=0)\n",
    "indices     = np.argsort(importances)[::-1]\n",
    "\n",
    "# Print col-names and importances-values\n",
    "print( cols[indices] )\n",
    "print( importances[indices] )\n",
    "\n",
    "# Barplot with feature importance\n",
    "df_fi = pd.DataFrame({'features':cols,'importances': importances})\n",
    "df_fi.sort_values('importances', inplace=True)\n",
    "df_fi.plot(kind='barh', \n",
    "           y='importances',\n",
    "           x='features', \n",
    "           color='darkred', \n",
    "           figsize=(6,3))"
   ]
  },
  {
   "cell_type": "code",
   "execution_count": 22,
   "id": "2b7943d5",
   "metadata": {},
   "outputs": [],
   "source": [
    "# Create train and test samples\n",
    "X_train, X_test, y_train, y_test = train_test_split(df[['DEST_CODE', 'AIRLINE_CODE', 'AIRCRAFT_CODE', 'Wind_Direction', 'SeaLevel_Air_Pressure', 'Weekday']], \n",
    "                                                         df['DELAY_MINUTES'], \n",
    "                                                        test_size=0.20, \n",
    "                                                        random_state=42)"
   ]
  },
  {
   "cell_type": "code",
   "execution_count": 23,
   "id": "09cae00d",
   "metadata": {},
   "outputs": [
    {
     "name": "stdout",
     "output_type": "stream",
     "text": [
      "Train score:  0.02623859369212589\n",
      "Test score:  0.017817479704785644\n",
      "Train RMSE:  17.870060293002737\n",
      "Test RMSE:  17.110746841905744\n"
     ]
    }
   ],
   "source": [
    "# train linear_model = LinearRegression()\n",
    "linear_model = LinearRegression()\n",
    "\n",
    "# Fit the model\n",
    "linear_model.fit(X_train, y_train)\n",
    "print(\"Train score: \", linear_model.score(X_train, y_train))\n",
    "print(\"Test score: \", linear_model.score(X_test, y_test))\n",
    "\n",
    "print(\"Train RMSE: \", root_mean_squared_error(y_train, linear_model.predict(X_train)))\n",
    "print(\"Test RMSE: \", root_mean_squared_error(y_test, linear_model.predict(X_test)))\n",
    " "
   ]
  },
  {
   "cell_type": "code",
   "execution_count": 24,
   "id": "62b85003",
   "metadata": {},
   "outputs": [
    {
     "name": "stdout",
     "output_type": "stream",
     "text": [
      "Train score:  0.5274217087331075\n",
      "Test score:  0.06272965986787993\n",
      "Train RMSE:  12.449061794431937\n",
      "Test RMSE:  16.714958491536695\n"
     ]
    }
   ],
   "source": [
    "# train random_forest_model = RandomForestRegressor()\n",
    "random_forest_model = RandomForestRegressor(random_state=42, max_depth=10)\n",
    "\n",
    "# Fit the model\n",
    "random_forest_model.fit(X_train, y_train)\n",
    "print(\"Train score: \", random_forest_model.score(X_train, y_train))\n",
    "print(\"Test score: \", random_forest_model.score(X_test, y_test))\n",
    "\n",
    "print(\"Train RMSE: \", root_mean_squared_error(y_train, random_forest_model.predict(X_train)))\n",
    "print(\"Test RMSE: \", root_mean_squared_error(y_test, random_forest_model.predict(X_test)))"
   ]
  },
  {
   "cell_type": "code",
   "execution_count": 25,
   "id": "68fd85fc",
   "metadata": {},
   "outputs": [
    {
     "name": "stdout",
     "output_type": "stream",
     "text": [
      "['DEST_CODE' 'AIRLINE_CODE' 'AIRCRAFT_CODE' 'Weekday'\n",
      " 'SeaLevel_Air_Pressure' 'Wind_Direction']\n",
      "[0.31978208 0.20634529 0.20598017 0.12628062 0.08721257 0.05439927]\n"
     ]
    },
    {
     "data": {
      "text/plain": [
       "<Axes: ylabel='features'>"
      ]
     },
     "execution_count": 25,
     "metadata": {},
     "output_type": "execute_result"
    },
    {
     "data": {
      "image/png": "[encoded data removed]",
      "text/plain": [
       "<Figure size 600x300 with 1 Axes>"
      ]
     },
     "metadata": {},
     "output_type": "display_data"
    }
   ],
   "source": [
    "cols = random_forest_model.feature_names_in_\n",
    "\n",
    "# Derive feature importance from random forest\n",
    "importances = random_forest_model.feature_importances_\n",
    "std         = np.std([tree.feature_importances_ for tree in random_forest_model.estimators_], axis=0)\n",
    "indices     = np.argsort(importances)[::-1]\n",
    "\n",
    "# Print col-names and importances-values\n",
    "print( cols[indices] )\n",
    "print( importances[indices] )\n",
    "\n",
    "# Barplot with feature importance\n",
    "df_fi = pd.DataFrame({'features':cols,'importances': importances})\n",
    "df_fi.sort_values('importances', inplace=True)\n",
    "df_fi.plot(kind='barh', \n",
    "           y='importances',\n",
    "           x='features', \n",
    "           color='darkred', \n",
    "           figsize=(6,3))"
   ]
  },
  {
   "cell_type": "code",
   "execution_count": 26,
   "id": "d8b54efc",
   "metadata": {},
   "outputs": [
    {
     "name": "stdout",
     "output_type": "stream",
     "text": [
      "CV R² mean: 0.04682607863132378\n"
     ]
    }
   ],
   "source": [
    "from sklearn.model_selection import cross_val_score\n",
    "scores = cross_val_score(random_forest_model, X_train, y_train, cv=5, scoring='r2')\n",
    "print(\"CV R² mean:\", scores.mean())\n"
   ]
  },
  {
   "cell_type": "code",
   "execution_count": 27,
   "id": "380e84a7",
   "metadata": {},
   "outputs": [],
   "source": [
    "# Features (X) und Zielvariable (y) festlegen\n",
    "X = df[['DEST_CODE', 'AIRLINE_CODE', 'AIRCRAFT_CODE', 'Weekday', 'SeaLevel_Air_Pressure', 'Wind_Direction']]\n",
    "y = df['DELAY_MINUTES'] "
   ]
  },
  {
   "cell_type": "code",
   "execution_count": 28,
   "id": "b52b48ac",
   "metadata": {},
   "outputs": [
    {
     "name": "stdout",
     "output_type": "stream",
     "text": [
      "Cross-validation accuracy: -0.2908\n",
      "Training accuracy: 0.7817\n"
     ]
    }
   ],
   "source": [
    "# Trainiere das Modell (Verwendung von RandomForestRegressor für Preisvorhersage)\n",
    "model = RandomForestRegressor(random_state=42)\n",
    "cross_val_scores = cross_val_score(model, X, y, cv=5)\n",
    "print(f\"Cross-validation accuracy: {np.mean(cross_val_scores):.4f}\")\n",
    "\n",
    "# Train on the full dataset\n",
    "model.fit(X, y)\n",
    "train_accuracy = model.score(X, y)\n",
    "print(f\"Training accuracy: {train_accuracy:.4f}\")"
   ]
  },
  {
   "cell_type": "code",
   "execution_count": 29,
   "id": "e7d4ed11",
   "metadata": {},
   "outputs": [],
   "source": [
    "# Gradio-Vorhersagefunktion\n",
    "def predict(DEST_CODE, AIRLINE_CODE, AIRCRAFT_CODE, Weekday, SeaLevel_Air_Pressure, Wind_Direction):\n",
    "    input_data = [[DEST_CODE, AIRLINE_CODE, AIRCRAFT_CODE, Weekday, SeaLevel_Air_Pressure, Wind_Direction]]\n",
    "    prediction = model.predict(input_data)[0]\n",
    "    return round(prediction)"
   ]
  },
  {
   "cell_type": "code",
   "execution_count": 31,
   "id": "58a612c6",
   "metadata": {},
   "outputs": [
    {
     "name": "stderr",
     "output_type": "stream",
     "text": [
      "/home/codespace/.local/lib/python3.12/site-packages/sklearn/utils/validation.py:2739: UserWarning: X does not have valid feature names, but RandomForestRegressor was fitted with feature names\n",
      "  warnings.warn(\n"
     ]
    },
    {
     "data": {
      "text/plain": [
       "35"
      ]
     },
     "execution_count": 31,
     "metadata": {},
     "output_type": "execute_result"
    }
   ],
   "source": [
    "predict(10, 88, 88, 2, 1025.2, 309)"
   ]
  },
  {
   "cell_type": "code",
   "execution_count": 49,
   "id": "3a98d133",
   "metadata": {},
   "outputs": [
    {
     "name": "stdout",
     "output_type": "stream",
     "text": [
      "* Running on local URL:  http://127.0.0.1:7871\n",
      "* Running on public URL: https://6cda296d116bd990d4.gradio.live\n",
      "\n",
      "This share link expires in 1 week. For free permanent hosting and GPU upgrades, run `gradio deploy` from the terminal in the working directory to deploy to Hugging Face Spaces (https://huggingface.co/spaces)\n"
     ]
    },
    {
     "data": {
      "text/html": [
       "<div><iframe src=\"https://6cda296d116bd990d4.gradio.live\" width=\"100%\" height=\"500\" allow=\"autoplay; camera; microphone; clipboard-read; clipboard-write;\" frameborder=\"0\" allowfullscreen></iframe></div>"
      ],
      "text/plain": [
       "<IPython.core.display.HTML object>"
      ]
     },
     "metadata": {},
     "output_type": "display_data"
    },
    {
     "data": {
      "text/plain": []
     },
     "execution_count": 49,
     "metadata": {},
     "output_type": "execute_result"
    }
   ],
   "source": [
    "# Extrahiere die einzigartigen Werte für Destination, Airline und Aircraft und sortiere sie aufsteigend\n",
    "destinations = sorted(df['DESTINATION'].unique().tolist())  # Aufsteigend sortieren\n",
    "airlines = sorted(df['AIRLINE'].unique().tolist())  # Aufsteigend sortieren\n",
    "aircrafts = sorted(df['AIRCRAFT'].unique().tolist())  # Aufsteigend sortieren\n",
    "\n",
    "# Mapping von Städtenamen zu DEST_CODE erstellen\n",
    "city_to_code = dict(zip(df['DESTINATION'], df['DEST_CODE']))\n",
    "\n",
    "# Mapping von Airline zu AIRLINE_CODE erstellen\n",
    "airline_to_code = dict(zip(df['AIRLINE'], df['AIRLINE_CODE']))\n",
    "\n",
    "# Mapping von Aircraft zu AIRCRAFT_CODE erstellen\n",
    "aircraft_to_code = dict(zip(df['AIRCRAFT'], df['AIRCRAFT_CODE']))\n",
    "\n",
    "# Mapping für Wochentag (Text -> Zahl)\n",
    "weekday_map = {\n",
    "    \"Montag\": 0,\n",
    "    \"Dienstag\": 1,\n",
    "    \"Mittwoch\": 2,\n",
    "    \"Donnerstag\": 3,\n",
    "    \"Freitag\": 4,\n",
    "    \"Samstag\": 5,\n",
    "    \"Sonntag\": 6\n",
    "}\n",
    "\n",
    "# Gradio Vorhersagefunktion\n",
    "def predict(destination, airline, aircraft, weekday, SeaLevel_Air_Pressure, Wind_Direction):\n",
    "    # Hier holen wir uns den entsprechenden Code basierend auf der Eingabe\n",
    "    DEST_CODE = city_to_code.get(destination, None)\n",
    "    AIRLINE_CODE = airline_to_code.get(airline, None)\n",
    "    AIRCRAFT_CODE = aircraft_to_code.get(aircraft, None)\n",
    "    Weekday = weekday_map.get(weekday, None)\n",
    "\n",
    "    # Fehlerbehandlung für ungültige Eingaben\n",
    "    if DEST_CODE is None or AIRLINE_CODE is None or AIRCRAFT_CODE is None or Weekday is None:\n",
    "        return \"Ungültige Eingabe. Bitte überprüfen Sie die eingegebenen Werte.\"\n",
    "    \n",
    "    # Eingabedaten für das Modell\n",
    "    input_data = [[DEST_CODE, AIRLINE_CODE, AIRCRAFT_CODE, Weekday, SeaLevel_Air_Pressure, Wind_Direction]]\n",
    "    \n",
    "    # Vorhersage\n",
    "    prediction = model.predict(input_data)[0]\n",
    "    return f\"Geschätzte Verspätung für {destination} mit {airline} ({aircraft}): {round(prediction)} Minuten\"\n",
    "\n",
    "# Gradio-Interface erstellen\n",
    "demo = gr.Interface(\n",
    "    fn=predict,\n",
    "    inputs=[\n",
    "        gr.Dropdown(choices=destinations, label=\"Destination\", value=None),\n",
    "        gr.Dropdown(choices=airlines, label=\"Airline\", value=None),\n",
    "        gr.Dropdown(choices=aircrafts, label=\"Aircraft\", value=None),\n",
    "        gr.Dropdown(choices=[\"Montag\", \"Dienstag\", \"Mittwoch\", \"Donnerstag\", \"Freitag\", \"Samstag\", \"Sonntag\"], label=\"Wochentag\", value=None),\n",
    "        gr.Number(label=\"Luftdruck auf Meereshöhe (hPa)\"),\n",
    "        gr.Slider(0, 360, step=1, label=\"Windrichtung (°)\"),\n",
    "    ],\n",
    "    outputs=\"text\",\n",
    "    title=\"Flugverspätungsvorhersage\",\n",
    "    description=\"Geben Sie die Stadt, Fluggesellschaft, Flugzeugtyp und Wetterdaten ein, um die voraussichtliche Verspätung in Minuten vorherzusagen.\",\n",
    "    examples=[\n",
    "        [\"London\", \"Lufthansa\", \"A320\", \"Dienstag\", 1025.2, 309],\n",
    "        [\"Paris\", \"Air France\", \"B737\", \"Freitag\", 1011.0, 180],\n",
    "        [\"New York\", \"United Airlines\", \"A333\", \"Montag\", 1005.0, 90],\n",
    "    ]\n",
    ")\n",
    "\n",
    "demo.launch(share=True)\n"
   ]
  }
 ],
 "metadata": {
  "kernelspec": {
   "display_name": "Python 3",
   "language": "python",
   "name": "python3"
  },
  "language_info": {
   "codemirror_mode": {
    "name": "ipython",
    "version": 3
   },
   "file_extension": ".py",
   "mimetype": "text/x-python",
   "name": "python",
   "nbconvert_exporter": "python",
   "pygments_lexer": "ipython3",
   "version": "3.12.1"
  }
 },
 "nbformat": 4,
 "nbformat_minor": 5
}
