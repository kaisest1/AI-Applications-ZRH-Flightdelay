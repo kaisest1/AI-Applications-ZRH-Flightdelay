{
 "cells": [
  {
   "cell_type": "markdown",
   "id": "d5aa66da",
   "metadata": {},
   "source": [
    "# Compare Linear Regression with Random Forest"
   ]
  },
  {
   "cell_type": "markdown",
   "id": "96edde9a",
   "metadata": {},
   "source": [
    "## Libraries and settings"
   ]
  },
  {
   "cell_type": "code",
   "execution_count": 31,
   "id": "07d6b462",
   "metadata": {},
   "outputs": [],
   "source": [
    "# Libraries\n",
    "import numpy as np\n",
    "import pandas as pd\n",
    "import matplotlib.pyplot as plt\n",
    "import seaborn as sns\n",
    "from sklearn.ensemble import RandomForestRegressor\n",
    "from sklearn.linear_model import LinearRegression\n",
    "from sklearn.model_selection import train_test_split, cross_val_score\n",
    "from sklearn.metrics import root_mean_squared_error\n",
    "import gradio as gr\n",
    "from datetime import datetime"
   ]
  },
  {
   "cell_type": "markdown",
   "id": "4cb7da55",
   "metadata": {},
   "source": [
    "## Import the flight delay data"
   ]
  },
  {
   "cell_type": "code",
   "execution_count": 32,
   "id": "7a8048c6",
   "metadata": {},
   "outputs": [
    {
     "name": "stdout",
     "output_type": "stream",
     "text": [
      "(7558, 21)\n"
     ]
    },
    {
     "data": {
      "text/html": [
       "<div>\n",
       "<style scoped>\n",
       "    .dataframe tbody tr th:only-of-type {\n",
       "        vertical-align: middle;\n",
       "    }\n",
       "\n",
       "    .dataframe tbody tr th {\n",
       "        vertical-align: top;\n",
       "    }\n",
       "\n",
       "    .dataframe thead th {\n",
       "        text-align: right;\n",
       "    }\n",
       "</style>\n",
       "<table border=\"1\" class=\"dataframe\">\n",
       "  <thead>\n",
       "    <tr style=\"text-align: right;\">\n",
       "      <th></th>\n",
       "      <th>DESTINATION</th>\n",
       "      <th>IATA_CODE</th>\n",
       "      <th>AIRLINE</th>\n",
       "      <th>AIRCRAFT</th>\n",
       "      <th>DATETIME</th>\n",
       "      <th>DEPART_TIME</th>\n",
       "      <th>DEPART_DATETIME</th>\n",
       "      <th>DELAY_MINUTES</th>\n",
       "      <th>DATETIME_HOUR</th>\n",
       "      <th>Weather_Condition</th>\n",
       "      <th>...</th>\n",
       "      <th>Dew_Point</th>\n",
       "      <th>Relative_Humidity</th>\n",
       "      <th>Total_Precipitation</th>\n",
       "      <th>Wind_Direction</th>\n",
       "      <th>Average_Wind_Speed</th>\n",
       "      <th>Wind_Peak_Gust</th>\n",
       "      <th>SeaLevel_Air_Pressure</th>\n",
       "      <th>DEST_CODE</th>\n",
       "      <th>AIRLINE_CODE</th>\n",
       "      <th>AIRCRAFT_CODE</th>\n",
       "    </tr>\n",
       "  </thead>\n",
       "  <tbody>\n",
       "    <tr>\n",
       "      <th>0</th>\n",
       "      <td>Larnaca</td>\n",
       "      <td>LCA</td>\n",
       "      <td>Edelweiss Air</td>\n",
       "      <td>A320</td>\n",
       "      <td>2025-04-28 05:45:00</td>\n",
       "      <td>06:02</td>\n",
       "      <td>2025-04-28 06:02:00</td>\n",
       "      <td>17</td>\n",
       "      <td>2025-04-28 05:00:00</td>\n",
       "      <td>5</td>\n",
       "      <td>...</td>\n",
       "      <td>5.3</td>\n",
       "      <td>99</td>\n",
       "      <td>0.0</td>\n",
       "      <td>309</td>\n",
       "      <td>6</td>\n",
       "      <td>9.3</td>\n",
       "      <td>1025.3</td>\n",
       "      <td>120</td>\n",
       "      <td>52</td>\n",
       "      <td>5</td>\n",
       "    </tr>\n",
       "    <tr>\n",
       "      <th>1</th>\n",
       "      <td>Pristina</td>\n",
       "      <td>PRN</td>\n",
       "      <td>Chair Airlines</td>\n",
       "      <td>A319</td>\n",
       "      <td>2025-04-28 05:45:00</td>\n",
       "      <td>06:00</td>\n",
       "      <td>2025-04-28 06:00:00</td>\n",
       "      <td>15</td>\n",
       "      <td>2025-04-28 05:00:00</td>\n",
       "      <td>5</td>\n",
       "      <td>...</td>\n",
       "      <td>5.3</td>\n",
       "      <td>99</td>\n",
       "      <td>0.0</td>\n",
       "      <td>309</td>\n",
       "      <td>6</td>\n",
       "      <td>9.3</td>\n",
       "      <td>1025.3</td>\n",
       "      <td>189</td>\n",
       "      <td>41</td>\n",
       "      <td>4</td>\n",
       "    </tr>\n",
       "    <tr>\n",
       "      <th>2</th>\n",
       "      <td>London</td>\n",
       "      <td>LCY</td>\n",
       "      <td>Swiss</td>\n",
       "      <td>BCS1</td>\n",
       "      <td>2025-04-28 06:55:00</td>\n",
       "      <td>07:34</td>\n",
       "      <td>2025-04-28 07:34:00</td>\n",
       "      <td>39</td>\n",
       "      <td>2025-04-28 06:00:00</td>\n",
       "      <td>5</td>\n",
       "      <td>...</td>\n",
       "      <td>6.0</td>\n",
       "      <td>97</td>\n",
       "      <td>0.0</td>\n",
       "      <td>192</td>\n",
       "      <td>3</td>\n",
       "      <td>8.0</td>\n",
       "      <td>1025.2</td>\n",
       "      <td>130</td>\n",
       "      <td>141</td>\n",
       "      <td>28</td>\n",
       "    </tr>\n",
       "    <tr>\n",
       "      <th>3</th>\n",
       "      <td>Palma de Mallorca</td>\n",
       "      <td>PMI</td>\n",
       "      <td>Swiss</td>\n",
       "      <td>A321</td>\n",
       "      <td>2025-04-28 06:50:00</td>\n",
       "      <td>07:11</td>\n",
       "      <td>2025-04-28 07:11:00</td>\n",
       "      <td>21</td>\n",
       "      <td>2025-04-28 06:00:00</td>\n",
       "      <td>5</td>\n",
       "      <td>...</td>\n",
       "      <td>6.0</td>\n",
       "      <td>97</td>\n",
       "      <td>0.0</td>\n",
       "      <td>192</td>\n",
       "      <td>3</td>\n",
       "      <td>8.0</td>\n",
       "      <td>1025.2</td>\n",
       "      <td>176</td>\n",
       "      <td>141</td>\n",
       "      <td>6</td>\n",
       "    </tr>\n",
       "    <tr>\n",
       "      <th>4</th>\n",
       "      <td>Madrid</td>\n",
       "      <td>MAD</td>\n",
       "      <td>Helvetic Airways</td>\n",
       "      <td>E295</td>\n",
       "      <td>2025-04-28 06:55:00</td>\n",
       "      <td>07:13</td>\n",
       "      <td>2025-04-28 07:13:00</td>\n",
       "      <td>18</td>\n",
       "      <td>2025-04-28 06:00:00</td>\n",
       "      <td>5</td>\n",
       "      <td>...</td>\n",
       "      <td>6.0</td>\n",
       "      <td>97</td>\n",
       "      <td>0.0</td>\n",
       "      <td>192</td>\n",
       "      <td>3</td>\n",
       "      <td>8.0</td>\n",
       "      <td>1025.2</td>\n",
       "      <td>135</td>\n",
       "      <td>81</td>\n",
       "      <td>55</td>\n",
       "    </tr>\n",
       "    <tr>\n",
       "      <th>5</th>\n",
       "      <td>Belgrade</td>\n",
       "      <td>BEG</td>\n",
       "      <td>Swiss</td>\n",
       "      <td>BCS3</td>\n",
       "      <td>2025-04-28 06:55:00</td>\n",
       "      <td>07:14</td>\n",
       "      <td>2025-04-28 07:14:00</td>\n",
       "      <td>19</td>\n",
       "      <td>2025-04-28 06:00:00</td>\n",
       "      <td>5</td>\n",
       "      <td>...</td>\n",
       "      <td>6.0</td>\n",
       "      <td>97</td>\n",
       "      <td>0.0</td>\n",
       "      <td>192</td>\n",
       "      <td>3</td>\n",
       "      <td>8.0</td>\n",
       "      <td>1025.2</td>\n",
       "      <td>20</td>\n",
       "      <td>141</td>\n",
       "      <td>29</td>\n",
       "    </tr>\n",
       "    <tr>\n",
       "      <th>6</th>\n",
       "      <td>Brindisi</td>\n",
       "      <td>BDS</td>\n",
       "      <td>Swiss</td>\n",
       "      <td>A320</td>\n",
       "      <td>2025-04-28 06:50:00</td>\n",
       "      <td>07:17</td>\n",
       "      <td>2025-04-28 07:17:00</td>\n",
       "      <td>27</td>\n",
       "      <td>2025-04-28 06:00:00</td>\n",
       "      <td>5</td>\n",
       "      <td>...</td>\n",
       "      <td>6.0</td>\n",
       "      <td>97</td>\n",
       "      <td>0.0</td>\n",
       "      <td>192</td>\n",
       "      <td>3</td>\n",
       "      <td>8.0</td>\n",
       "      <td>1025.2</td>\n",
       "      <td>37</td>\n",
       "      <td>141</td>\n",
       "      <td>5</td>\n",
       "    </tr>\n",
       "    <tr>\n",
       "      <th>7</th>\n",
       "      <td>Hurghada</td>\n",
       "      <td>HRG</td>\n",
       "      <td>Chair Airlines</td>\n",
       "      <td>A320</td>\n",
       "      <td>2025-04-28 06:45:00</td>\n",
       "      <td>06:52</td>\n",
       "      <td>2025-04-28 06:52:00</td>\n",
       "      <td>7</td>\n",
       "      <td>2025-04-28 06:00:00</td>\n",
       "      <td>5</td>\n",
       "      <td>...</td>\n",
       "      <td>6.0</td>\n",
       "      <td>97</td>\n",
       "      <td>0.0</td>\n",
       "      <td>192</td>\n",
       "      <td>3</td>\n",
       "      <td>8.0</td>\n",
       "      <td>1025.2</td>\n",
       "      <td>99</td>\n",
       "      <td>41</td>\n",
       "      <td>5</td>\n",
       "    </tr>\n",
       "    <tr>\n",
       "      <th>8</th>\n",
       "      <td>Funchal</td>\n",
       "      <td>FNC</td>\n",
       "      <td>Edelweiss Air</td>\n",
       "      <td>A320</td>\n",
       "      <td>2025-04-28 06:45:00</td>\n",
       "      <td>07:00</td>\n",
       "      <td>2025-04-28 07:00:00</td>\n",
       "      <td>15</td>\n",
       "      <td>2025-04-28 06:00:00</td>\n",
       "      <td>5</td>\n",
       "      <td>...</td>\n",
       "      <td>6.0</td>\n",
       "      <td>97</td>\n",
       "      <td>0.0</td>\n",
       "      <td>192</td>\n",
       "      <td>3</td>\n",
       "      <td>8.0</td>\n",
       "      <td>1025.2</td>\n",
       "      <td>84</td>\n",
       "      <td>52</td>\n",
       "      <td>5</td>\n",
       "    </tr>\n",
       "    <tr>\n",
       "      <th>9</th>\n",
       "      <td>Bilbao</td>\n",
       "      <td>BIO</td>\n",
       "      <td>Edelweiss Air</td>\n",
       "      <td>A320</td>\n",
       "      <td>2025-04-28 06:45:00</td>\n",
       "      <td>07:02</td>\n",
       "      <td>2025-04-28 07:02:00</td>\n",
       "      <td>17</td>\n",
       "      <td>2025-04-28 06:00:00</td>\n",
       "      <td>5</td>\n",
       "      <td>...</td>\n",
       "      <td>6.0</td>\n",
       "      <td>97</td>\n",
       "      <td>0.0</td>\n",
       "      <td>192</td>\n",
       "      <td>3</td>\n",
       "      <td>8.0</td>\n",
       "      <td>1025.2</td>\n",
       "      <td>24</td>\n",
       "      <td>52</td>\n",
       "      <td>5</td>\n",
       "    </tr>\n",
       "  </tbody>\n",
       "</table>\n",
       "<p>10 rows × 21 columns</p>\n",
       "</div>"
      ],
      "text/plain": [
       "         DESTINATION IATA_CODE           AIRLINE AIRCRAFT  \\\n",
       "0            Larnaca       LCA     Edelweiss Air     A320   \n",
       "1           Pristina       PRN    Chair Airlines     A319   \n",
       "2             London       LCY             Swiss     BCS1   \n",
       "3  Palma de Mallorca       PMI             Swiss     A321   \n",
       "4             Madrid       MAD  Helvetic Airways     E295   \n",
       "5           Belgrade       BEG             Swiss     BCS3   \n",
       "6           Brindisi       BDS             Swiss     A320   \n",
       "7           Hurghada       HRG    Chair Airlines     A320   \n",
       "8            Funchal       FNC     Edelweiss Air     A320   \n",
       "9             Bilbao       BIO     Edelweiss Air     A320   \n",
       "\n",
       "              DATETIME DEPART_TIME      DEPART_DATETIME  DELAY_MINUTES  \\\n",
       "0  2025-04-28 05:45:00       06:02  2025-04-28 06:02:00             17   \n",
       "1  2025-04-28 05:45:00       06:00  2025-04-28 06:00:00             15   \n",
       "2  2025-04-28 06:55:00       07:34  2025-04-28 07:34:00             39   \n",
       "3  2025-04-28 06:50:00       07:11  2025-04-28 07:11:00             21   \n",
       "4  2025-04-28 06:55:00       07:13  2025-04-28 07:13:00             18   \n",
       "5  2025-04-28 06:55:00       07:14  2025-04-28 07:14:00             19   \n",
       "6  2025-04-28 06:50:00       07:17  2025-04-28 07:17:00             27   \n",
       "7  2025-04-28 06:45:00       06:52  2025-04-28 06:52:00              7   \n",
       "8  2025-04-28 06:45:00       07:00  2025-04-28 07:00:00             15   \n",
       "9  2025-04-28 06:45:00       07:02  2025-04-28 07:02:00             17   \n",
       "\n",
       "         DATETIME_HOUR  Weather_Condition  ...  Dew_Point  Relative_Humidity  \\\n",
       "0  2025-04-28 05:00:00                  5  ...        5.3                 99   \n",
       "1  2025-04-28 05:00:00                  5  ...        5.3                 99   \n",
       "2  2025-04-28 06:00:00                  5  ...        6.0                 97   \n",
       "3  2025-04-28 06:00:00                  5  ...        6.0                 97   \n",
       "4  2025-04-28 06:00:00                  5  ...        6.0                 97   \n",
       "5  2025-04-28 06:00:00                  5  ...        6.0                 97   \n",
       "6  2025-04-28 06:00:00                  5  ...        6.0                 97   \n",
       "7  2025-04-28 06:00:00                  5  ...        6.0                 97   \n",
       "8  2025-04-28 06:00:00                  5  ...        6.0                 97   \n",
       "9  2025-04-28 06:00:00                  5  ...        6.0                 97   \n",
       "\n",
       "   Total_Precipitation  Wind_Direction  Average_Wind_Speed  Wind_Peak_Gust  \\\n",
       "0                  0.0             309                   6             9.3   \n",
       "1                  0.0             309                   6             9.3   \n",
       "2                  0.0             192                   3             8.0   \n",
       "3                  0.0             192                   3             8.0   \n",
       "4                  0.0             192                   3             8.0   \n",
       "5                  0.0             192                   3             8.0   \n",
       "6                  0.0             192                   3             8.0   \n",
       "7                  0.0             192                   3             8.0   \n",
       "8                  0.0             192                   3             8.0   \n",
       "9                  0.0             192                   3             8.0   \n",
       "\n",
       "   SeaLevel_Air_Pressure  DEST_CODE  AIRLINE_CODE  AIRCRAFT_CODE  \n",
       "0                 1025.3        120            52              5  \n",
       "1                 1025.3        189            41              4  \n",
       "2                 1025.2        130           141             28  \n",
       "3                 1025.2        176           141              6  \n",
       "4                 1025.2        135            81             55  \n",
       "5                 1025.2         20           141             29  \n",
       "6                 1025.2         37           141              5  \n",
       "7                 1025.2         99            41              5  \n",
       "8                 1025.2         84            52              5  \n",
       "9                 1025.2         24            52              5  \n",
       "\n",
       "[10 rows x 21 columns]"
      ]
     },
     "execution_count": 32,
     "metadata": {},
     "output_type": "execute_result"
    }
   ],
   "source": [
    "# Read and select variables\n",
    "df_orig = pd.read_csv(\"zrh_flightdelay.csv\", sep=\",\", encoding='utf-8')\n",
    "\n",
    "# Remove missing values\n",
    "df = df_orig.dropna()\n",
    "# Remove duplicates\n",
    "df = df.drop_duplicates()\n",
    "\n",
    "print(df.shape)\n",
    "df.head(10)"
   ]
  },
  {
   "cell_type": "code",
   "execution_count": 33,
   "id": "cc461810",
   "metadata": {},
   "outputs": [
    {
     "name": "stdout",
     "output_type": "stream",
     "text": [
      "Index(['DESTINATION', 'IATA_CODE', 'AIRLINE', 'AIRCRAFT', 'DATETIME',\n",
      "       'DEPART_TIME', 'DEPART_DATETIME', 'DELAY_MINUTES', 'DATETIME_HOUR',\n",
      "       'Weather_Condition', 'Temperature', 'Dew_Point', 'Relative_Humidity',\n",
      "       'Total_Precipitation', 'Wind_Direction', 'Average_Wind_Speed',\n",
      "       'Wind_Peak_Gust', 'SeaLevel_Air_Pressure', 'DEST_CODE', 'AIRLINE_CODE',\n",
      "       'AIRCRAFT_CODE'],\n",
      "      dtype='object')\n"
     ]
    }
   ],
   "source": [
    "print(df.columns)"
   ]
  },
  {
   "cell_type": "markdown",
   "id": "c4c84db1",
   "metadata": {},
   "source": [
    "## Train/Test splitting"
   ]
  },
  {
   "cell_type": "code",
   "execution_count": 34,
   "id": "70392669",
   "metadata": {},
   "outputs": [],
   "source": [
    "# Create train and test samples\n",
    "X_train, X_test, y_train, y_test = train_test_split(df[['DEST_CODE', 'AIRLINE_CODE', 'AIRCRAFT_CODE', 'Weather_Condition', 'Temperature', 'Dew_Point', 'Relative_Humidity',\n",
    "       'Total_Precipitation', 'Wind_Direction', 'Average_Wind_Speed', 'Wind_Peak_Gust', 'SeaLevel_Air_Pressure']], \n",
    "                                                         df['DELAY_MINUTES'], \n",
    "                                                        test_size=0.20, \n",
    "                                                        random_state=42)"
   ]
  },
  {
   "cell_type": "code",
   "execution_count": 35,
   "id": "281587a0",
   "metadata": {},
   "outputs": [
    {
     "name": "stdout",
     "output_type": "stream",
     "text": [
      "Train score:  0.0726450691634648\n",
      "Test score:  0.07196480734423238\n",
      "Train RMSE:  22.39093609763963\n",
      "Test RMSE:  21.398473264523037\n"
     ]
    }
   ],
   "source": [
    "# train linear_model = LinearRegression()\n",
    "linear_model = LinearRegression()\n",
    "\n",
    "# Fit the model\n",
    "linear_model.fit(X_train, y_train)\n",
    "print(\"Train score: \", linear_model.score(X_train, y_train))\n",
    "print(\"Test score: \", linear_model.score(X_test, y_test))\n",
    "\n",
    "print(\"Train RMSE: \", root_mean_squared_error(y_train, linear_model.predict(X_train)))\n",
    "print(\"Test RMSE: \", root_mean_squared_error(y_test, linear_model.predict(X_test)))\n",
    " "
   ]
  },
  {
   "cell_type": "code",
   "execution_count": 36,
   "id": "bb5fe1ab",
   "metadata": {},
   "outputs": [
    {
     "name": "stdout",
     "output_type": "stream",
     "text": [
      "Train score:  0.882187414128147\n",
      "Test score:  0.10109117603217321\n",
      "Train RMSE:  7.980775642248181\n",
      "Test RMSE:  21.060000997669583\n"
     ]
    }
   ],
   "source": [
    "# train random_forest_model = RandomForestRegressor()\n",
    "random_forest_model = RandomForestRegressor(random_state=42)\n",
    "\n",
    "# Fit the model\n",
    "random_forest_model.fit(X_train, y_train)\n",
    "print(\"Train score: \", random_forest_model.score(X_train, y_train))\n",
    "print(\"Test score: \", random_forest_model.score(X_test, y_test))\n",
    "\n",
    "print(\"Train RMSE: \", root_mean_squared_error(y_train, random_forest_model.predict(X_train)))\n",
    "print(\"Test RMSE: \", root_mean_squared_error(y_test, random_forest_model.predict(X_test)))"
   ]
  },
  {
   "cell_type": "code",
   "execution_count": 37,
   "id": "5ed44d2d",
   "metadata": {},
   "outputs": [
    {
     "name": "stdout",
     "output_type": "stream",
     "text": [
      "['DEST_CODE' 'AIRLINE_CODE' 'AIRCRAFT_CODE' 'Wind_Peak_Gust'\n",
      " 'SeaLevel_Air_Pressure' 'Wind_Direction' 'Temperature'\n",
      " 'Relative_Humidity' 'Dew_Point' 'Average_Wind_Speed' 'Weather_Condition'\n",
      " 'Total_Precipitation']\n",
      "[0.20600008 0.19120923 0.13073337 0.10152983 0.09916954 0.05089525\n",
      " 0.04883095 0.04743362 0.04309054 0.03602439 0.03470734 0.01037587]\n"
     ]
    },
    {
     "data": {
      "text/plain": [
       "<Axes: ylabel='features'>"
      ]
     },
     "execution_count": 37,
     "metadata": {},
     "output_type": "execute_result"
    },
    {
     "data": {
      "image/png": "[encoded data removed]",
      "text/plain": [
       "<Figure size 600x300 with 1 Axes>"
      ]
     },
     "metadata": {},
     "output_type": "display_data"
    }
   ],
   "source": [
    "cols = random_forest_model.feature_names_in_\n",
    "\n",
    "# Derive feature importance from random forest\n",
    "importances = random_forest_model.feature_importances_\n",
    "std         = np.std([tree.feature_importances_ for tree in random_forest_model.estimators_], axis=0)\n",
    "indices     = np.argsort(importances)[::-1]\n",
    "\n",
    "# Print col-names and importances-values\n",
    "print( cols[indices] )\n",
    "print( importances[indices] )\n",
    "\n",
    "# Barplot with feature importance\n",
    "df_fi = pd.DataFrame({'features':cols,'importances': importances})\n",
    "df_fi.sort_values('importances', inplace=True)\n",
    "df_fi.plot(kind='barh', \n",
    "           y='importances',\n",
    "           x='features', \n",
    "           color='darkred', \n",
    "           figsize=(6,3))"
   ]
  },
  {
   "cell_type": "code",
   "execution_count": 38,
   "id": "beb54632",
   "metadata": {},
   "outputs": [
    {
     "data": {
      "image/png": "[encoded data removed]",
      "text/plain": [
       "<Figure size 1200x600 with 1 Axes>"
      ]
     },
     "metadata": {},
     "output_type": "display_data"
    }
   ],
   "source": [
    "plt.figure(figsize=(12, 6))\n",
    "sns.histplot(df[\"DELAY_MINUTES\"], bins=50, kde=False, color=\"skyblue\")\n",
    "\n",
    "plt.title(\"Verteilung der Verspätungsminuten (DELAY_MINUTES)\")\n",
    "plt.xlabel(\"Verspätung in Minuten\")\n",
    "plt.ylabel(\"Anzahl Flüge\")\n",
    "plt.grid(True)\n",
    "plt.show()\n"
   ]
  },
  {
   "cell_type": "code",
   "execution_count": 39,
   "id": "c63308ee",
   "metadata": {},
   "outputs": [],
   "source": [
    "# Negative Werte auf 0 setzen\n",
    "df[\"DELAY_MINUTES\"] = df[\"DELAY_MINUTES\"].clip(lower=0)\n",
    "\n",
    "# Zeilen mit mehr als 120 Minuten Verspätung entfernen\n",
    "df = df[df[\"DELAY_MINUTES\"] <= 120]\n"
   ]
  },
  {
   "cell_type": "code",
   "execution_count": 40,
   "id": "eb77e285",
   "metadata": {},
   "outputs": [
    {
     "data": {
      "image/png": "[encoded data removed]",
      "text/plain": [
       "<Figure size 1200x600 with 1 Axes>"
      ]
     },
     "metadata": {},
     "output_type": "display_data"
    }
   ],
   "source": [
    "plt.figure(figsize=(12, 6))\n",
    "sns.histplot(df[\"DELAY_MINUTES\"], bins=50, kde=False, color=\"skyblue\")\n",
    "\n",
    "plt.title(\"Verteilung der Verspätungsminuten (DELAY_MINUTES)\")\n",
    "plt.xlabel(\"Verspätung in Minuten\")\n",
    "plt.ylabel(\"Anzahl Flüge\")\n",
    "plt.grid(True)\n",
    "plt.show()\n"
   ]
  },
  {
   "cell_type": "code",
   "execution_count": 41,
   "id": "619919f6",
   "metadata": {},
   "outputs": [
    {
     "data": {
      "text/plain": [
       "(7487, 21)"
      ]
     },
     "execution_count": 41,
     "metadata": {},
     "output_type": "execute_result"
    }
   ],
   "source": [
    "df.shape"
   ]
  },
  {
   "cell_type": "code",
   "execution_count": 42,
   "id": "a9be734f",
   "metadata": {},
   "outputs": [],
   "source": [
    "# Create train and test samples\n",
    "X_train, X_test, y_train, y_test = train_test_split(df[['DEST_CODE', 'AIRLINE_CODE', 'AIRCRAFT_CODE', 'Weather_Condition', 'Temperature', 'Dew_Point', 'Relative_Humidity',\n",
    "       'Total_Precipitation', 'Wind_Direction', 'Average_Wind_Speed', 'Wind_Peak_Gust', 'SeaLevel_Air_Pressure']], \n",
    "                                                         df['DELAY_MINUTES'], \n",
    "                                                        test_size=0.20, \n",
    "                                                        random_state=42)"
   ]
  },
  {
   "cell_type": "code",
   "execution_count": 43,
   "id": "27d0e6f8",
   "metadata": {},
   "outputs": [
    {
     "name": "stdout",
     "output_type": "stream",
     "text": [
      "Train score:  0.0839258548482621\n",
      "Test score:  0.06596183516002319\n",
      "Train RMSE:  17.015335501603737\n",
      "Test RMSE:  18.26319321500446\n"
     ]
    }
   ],
   "source": [
    "# train linear_model = LinearRegression()\n",
    "linear_model = LinearRegression()\n",
    "\n",
    "# Fit the model\n",
    "linear_model.fit(X_train, y_train)\n",
    "print(\"Train score: \", linear_model.score(X_train, y_train))\n",
    "print(\"Test score: \", linear_model.score(X_test, y_test))\n",
    "\n",
    "print(\"Train RMSE: \", root_mean_squared_error(y_train, linear_model.predict(X_train)))\n",
    "print(\"Test RMSE: \", root_mean_squared_error(y_test, linear_model.predict(X_test)))\n",
    " "
   ]
  },
  {
   "cell_type": "code",
   "execution_count": 44,
   "id": "6793b809",
   "metadata": {},
   "outputs": [
    {
     "name": "stdout",
     "output_type": "stream",
     "text": [
      "Train score:  0.8851517456744896\n",
      "Test score:  0.17464441155685728\n",
      "Train RMSE:  6.024727423937529\n",
      "Test RMSE:  17.1678120832548\n"
     ]
    }
   ],
   "source": [
    "# train random_forest_model = RandomForestRegressor()\n",
    "random_forest_model = RandomForestRegressor(random_state=42)\n",
    "\n",
    "# Fit the model\n",
    "random_forest_model.fit(X_train, y_train)\n",
    "print(\"Train score: \", random_forest_model.score(X_train, y_train))\n",
    "print(\"Test score: \", random_forest_model.score(X_test, y_test))\n",
    "\n",
    "print(\"Train RMSE: \", root_mean_squared_error(y_train, random_forest_model.predict(X_train)))\n",
    "print(\"Test RMSE: \", root_mean_squared_error(y_test, random_forest_model.predict(X_test)))"
   ]
  },
  {
   "cell_type": "code",
   "execution_count": 45,
   "id": "d41e258e",
   "metadata": {},
   "outputs": [
    {
     "name": "stdout",
     "output_type": "stream",
     "text": [
      "['DEST_CODE' 'AIRCRAFT_CODE' 'AIRLINE_CODE' 'Wind_Peak_Gust'\n",
      " 'SeaLevel_Air_Pressure' 'Temperature' 'Wind_Direction' 'Dew_Point'\n",
      " 'Relative_Humidity' 'Average_Wind_Speed' 'Weather_Condition'\n",
      " 'Total_Precipitation']\n",
      "[0.22865437 0.13816313 0.13212359 0.1190019  0.08718187 0.05999614\n",
      " 0.05378894 0.05059357 0.04613634 0.03952085 0.0357655  0.00907379]\n"
     ]
    },
    {
     "data": {
      "text/plain": [
       "<Axes: ylabel='features'>"
      ]
     },
     "execution_count": 45,
     "metadata": {},
     "output_type": "execute_result"
    },
    {
     "data": {
      "image/png": "[encoded data removed]",
      "text/plain": [
       "<Figure size 600x300 with 1 Axes>"
      ]
     },
     "metadata": {},
     "output_type": "display_data"
    }
   ],
   "source": [
    "cols = random_forest_model.feature_names_in_\n",
    "\n",
    "# Derive feature importance from random forest\n",
    "importances = random_forest_model.feature_importances_\n",
    "std         = np.std([tree.feature_importances_ for tree in random_forest_model.estimators_], axis=0)\n",
    "indices     = np.argsort(importances)[::-1]\n",
    "\n",
    "# Print col-names and importances-values\n",
    "print( cols[indices] )\n",
    "print( importances[indices] )\n",
    "\n",
    "# Barplot with feature importance\n",
    "df_fi = pd.DataFrame({'features':cols,'importances': importances})\n",
    "df_fi.sort_values('importances', inplace=True)\n",
    "df_fi.plot(kind='barh', \n",
    "           y='importances',\n",
    "           x='features', \n",
    "           color='darkred', \n",
    "           figsize=(6,3))"
   ]
  },
  {
   "cell_type": "code",
   "execution_count": 46,
   "id": "b2d9f154",
   "metadata": {},
   "outputs": [],
   "source": [
    "# Schritt 1: In datetime-Format umwandeln (falls noch nicht geschehen)\n",
    "df[\"DATETIME\"] = pd.to_datetime(df[\"DATETIME\"])\n",
    "\n",
    "# Schritt 2: Neue Spalte mit Wochentagszahl hinzufügen (Montag = 0, Sonntag = 6)\n",
    "df[\"Weekday\"] = df[\"DATETIME\"].dt.weekday\n",
    "\n",
    "# Weekday name\n",
    "df[\"Weekday_name\"] = df[\"DATETIME\"].dt.day_name()\n",
    "\n"
   ]
  },
  {
   "cell_type": "code",
   "execution_count": 47,
   "id": "b22d4cb9",
   "metadata": {},
   "outputs": [
    {
     "data": {
      "text/html": [
       "<div>\n",
       "<style scoped>\n",
       "    .dataframe tbody tr th:only-of-type {\n",
       "        vertical-align: middle;\n",
       "    }\n",
       "\n",
       "    .dataframe tbody tr th {\n",
       "        vertical-align: top;\n",
       "    }\n",
       "\n",
       "    .dataframe thead th {\n",
       "        text-align: right;\n",
       "    }\n",
       "</style>\n",
       "<table border=\"1\" class=\"dataframe\">\n",
       "  <thead>\n",
       "    <tr style=\"text-align: right;\">\n",
       "      <th></th>\n",
       "      <th>DESTINATION</th>\n",
       "      <th>IATA_CODE</th>\n",
       "      <th>AIRLINE</th>\n",
       "      <th>AIRCRAFT</th>\n",
       "      <th>DATETIME</th>\n",
       "      <th>DEPART_TIME</th>\n",
       "      <th>DEPART_DATETIME</th>\n",
       "      <th>DELAY_MINUTES</th>\n",
       "      <th>DATETIME_HOUR</th>\n",
       "      <th>Weather_Condition</th>\n",
       "      <th>...</th>\n",
       "      <th>Total_Precipitation</th>\n",
       "      <th>Wind_Direction</th>\n",
       "      <th>Average_Wind_Speed</th>\n",
       "      <th>Wind_Peak_Gust</th>\n",
       "      <th>SeaLevel_Air_Pressure</th>\n",
       "      <th>DEST_CODE</th>\n",
       "      <th>AIRLINE_CODE</th>\n",
       "      <th>AIRCRAFT_CODE</th>\n",
       "      <th>Weekday</th>\n",
       "      <th>Weekday_name</th>\n",
       "    </tr>\n",
       "  </thead>\n",
       "  <tbody>\n",
       "    <tr>\n",
       "      <th>0</th>\n",
       "      <td>Larnaca</td>\n",
       "      <td>LCA</td>\n",
       "      <td>Edelweiss Air</td>\n",
       "      <td>A320</td>\n",
       "      <td>2025-04-28 05:45:00</td>\n",
       "      <td>06:02</td>\n",
       "      <td>2025-04-28 06:02:00</td>\n",
       "      <td>17</td>\n",
       "      <td>2025-04-28 05:00:00</td>\n",
       "      <td>5</td>\n",
       "      <td>...</td>\n",
       "      <td>0.0</td>\n",
       "      <td>309</td>\n",
       "      <td>6</td>\n",
       "      <td>9.3</td>\n",
       "      <td>1025.3</td>\n",
       "      <td>120</td>\n",
       "      <td>52</td>\n",
       "      <td>5</td>\n",
       "      <td>0</td>\n",
       "      <td>Monday</td>\n",
       "    </tr>\n",
       "    <tr>\n",
       "      <th>1</th>\n",
       "      <td>Pristina</td>\n",
       "      <td>PRN</td>\n",
       "      <td>Chair Airlines</td>\n",
       "      <td>A319</td>\n",
       "      <td>2025-04-28 05:45:00</td>\n",
       "      <td>06:00</td>\n",
       "      <td>2025-04-28 06:00:00</td>\n",
       "      <td>15</td>\n",
       "      <td>2025-04-28 05:00:00</td>\n",
       "      <td>5</td>\n",
       "      <td>...</td>\n",
       "      <td>0.0</td>\n",
       "      <td>309</td>\n",
       "      <td>6</td>\n",
       "      <td>9.3</td>\n",
       "      <td>1025.3</td>\n",
       "      <td>189</td>\n",
       "      <td>41</td>\n",
       "      <td>4</td>\n",
       "      <td>0</td>\n",
       "      <td>Monday</td>\n",
       "    </tr>\n",
       "    <tr>\n",
       "      <th>2</th>\n",
       "      <td>London</td>\n",
       "      <td>LCY</td>\n",
       "      <td>Swiss</td>\n",
       "      <td>BCS1</td>\n",
       "      <td>2025-04-28 06:55:00</td>\n",
       "      <td>07:34</td>\n",
       "      <td>2025-04-28 07:34:00</td>\n",
       "      <td>39</td>\n",
       "      <td>2025-04-28 06:00:00</td>\n",
       "      <td>5</td>\n",
       "      <td>...</td>\n",
       "      <td>0.0</td>\n",
       "      <td>192</td>\n",
       "      <td>3</td>\n",
       "      <td>8.0</td>\n",
       "      <td>1025.2</td>\n",
       "      <td>130</td>\n",
       "      <td>141</td>\n",
       "      <td>28</td>\n",
       "      <td>0</td>\n",
       "      <td>Monday</td>\n",
       "    </tr>\n",
       "    <tr>\n",
       "      <th>3</th>\n",
       "      <td>Palma de Mallorca</td>\n",
       "      <td>PMI</td>\n",
       "      <td>Swiss</td>\n",
       "      <td>A321</td>\n",
       "      <td>2025-04-28 06:50:00</td>\n",
       "      <td>07:11</td>\n",
       "      <td>2025-04-28 07:11:00</td>\n",
       "      <td>21</td>\n",
       "      <td>2025-04-28 06:00:00</td>\n",
       "      <td>5</td>\n",
       "      <td>...</td>\n",
       "      <td>0.0</td>\n",
       "      <td>192</td>\n",
       "      <td>3</td>\n",
       "      <td>8.0</td>\n",
       "      <td>1025.2</td>\n",
       "      <td>176</td>\n",
       "      <td>141</td>\n",
       "      <td>6</td>\n",
       "      <td>0</td>\n",
       "      <td>Monday</td>\n",
       "    </tr>\n",
       "    <tr>\n",
       "      <th>4</th>\n",
       "      <td>Madrid</td>\n",
       "      <td>MAD</td>\n",
       "      <td>Helvetic Airways</td>\n",
       "      <td>E295</td>\n",
       "      <td>2025-04-28 06:55:00</td>\n",
       "      <td>07:13</td>\n",
       "      <td>2025-04-28 07:13:00</td>\n",
       "      <td>18</td>\n",
       "      <td>2025-04-28 06:00:00</td>\n",
       "      <td>5</td>\n",
       "      <td>...</td>\n",
       "      <td>0.0</td>\n",
       "      <td>192</td>\n",
       "      <td>3</td>\n",
       "      <td>8.0</td>\n",
       "      <td>1025.2</td>\n",
       "      <td>135</td>\n",
       "      <td>81</td>\n",
       "      <td>55</td>\n",
       "      <td>0</td>\n",
       "      <td>Monday</td>\n",
       "    </tr>\n",
       "    <tr>\n",
       "      <th>5</th>\n",
       "      <td>Belgrade</td>\n",
       "      <td>BEG</td>\n",
       "      <td>Swiss</td>\n",
       "      <td>BCS3</td>\n",
       "      <td>2025-04-28 06:55:00</td>\n",
       "      <td>07:14</td>\n",
       "      <td>2025-04-28 07:14:00</td>\n",
       "      <td>19</td>\n",
       "      <td>2025-04-28 06:00:00</td>\n",
       "      <td>5</td>\n",
       "      <td>...</td>\n",
       "      <td>0.0</td>\n",
       "      <td>192</td>\n",
       "      <td>3</td>\n",
       "      <td>8.0</td>\n",
       "      <td>1025.2</td>\n",
       "      <td>20</td>\n",
       "      <td>141</td>\n",
       "      <td>29</td>\n",
       "      <td>0</td>\n",
       "      <td>Monday</td>\n",
       "    </tr>\n",
       "    <tr>\n",
       "      <th>6</th>\n",
       "      <td>Brindisi</td>\n",
       "      <td>BDS</td>\n",
       "      <td>Swiss</td>\n",
       "      <td>A320</td>\n",
       "      <td>2025-04-28 06:50:00</td>\n",
       "      <td>07:17</td>\n",
       "      <td>2025-04-28 07:17:00</td>\n",
       "      <td>27</td>\n",
       "      <td>2025-04-28 06:00:00</td>\n",
       "      <td>5</td>\n",
       "      <td>...</td>\n",
       "      <td>0.0</td>\n",
       "      <td>192</td>\n",
       "      <td>3</td>\n",
       "      <td>8.0</td>\n",
       "      <td>1025.2</td>\n",
       "      <td>37</td>\n",
       "      <td>141</td>\n",
       "      <td>5</td>\n",
       "      <td>0</td>\n",
       "      <td>Monday</td>\n",
       "    </tr>\n",
       "    <tr>\n",
       "      <th>7</th>\n",
       "      <td>Hurghada</td>\n",
       "      <td>HRG</td>\n",
       "      <td>Chair Airlines</td>\n",
       "      <td>A320</td>\n",
       "      <td>2025-04-28 06:45:00</td>\n",
       "      <td>06:52</td>\n",
       "      <td>2025-04-28 06:52:00</td>\n",
       "      <td>7</td>\n",
       "      <td>2025-04-28 06:00:00</td>\n",
       "      <td>5</td>\n",
       "      <td>...</td>\n",
       "      <td>0.0</td>\n",
       "      <td>192</td>\n",
       "      <td>3</td>\n",
       "      <td>8.0</td>\n",
       "      <td>1025.2</td>\n",
       "      <td>99</td>\n",
       "      <td>41</td>\n",
       "      <td>5</td>\n",
       "      <td>0</td>\n",
       "      <td>Monday</td>\n",
       "    </tr>\n",
       "    <tr>\n",
       "      <th>8</th>\n",
       "      <td>Funchal</td>\n",
       "      <td>FNC</td>\n",
       "      <td>Edelweiss Air</td>\n",
       "      <td>A320</td>\n",
       "      <td>2025-04-28 06:45:00</td>\n",
       "      <td>07:00</td>\n",
       "      <td>2025-04-28 07:00:00</td>\n",
       "      <td>15</td>\n",
       "      <td>2025-04-28 06:00:00</td>\n",
       "      <td>5</td>\n",
       "      <td>...</td>\n",
       "      <td>0.0</td>\n",
       "      <td>192</td>\n",
       "      <td>3</td>\n",
       "      <td>8.0</td>\n",
       "      <td>1025.2</td>\n",
       "      <td>84</td>\n",
       "      <td>52</td>\n",
       "      <td>5</td>\n",
       "      <td>0</td>\n",
       "      <td>Monday</td>\n",
       "    </tr>\n",
       "    <tr>\n",
       "      <th>9</th>\n",
       "      <td>Bilbao</td>\n",
       "      <td>BIO</td>\n",
       "      <td>Edelweiss Air</td>\n",
       "      <td>A320</td>\n",
       "      <td>2025-04-28 06:45:00</td>\n",
       "      <td>07:02</td>\n",
       "      <td>2025-04-28 07:02:00</td>\n",
       "      <td>17</td>\n",
       "      <td>2025-04-28 06:00:00</td>\n",
       "      <td>5</td>\n",
       "      <td>...</td>\n",
       "      <td>0.0</td>\n",
       "      <td>192</td>\n",
       "      <td>3</td>\n",
       "      <td>8.0</td>\n",
       "      <td>1025.2</td>\n",
       "      <td>24</td>\n",
       "      <td>52</td>\n",
       "      <td>5</td>\n",
       "      <td>0</td>\n",
       "      <td>Monday</td>\n",
       "    </tr>\n",
       "  </tbody>\n",
       "</table>\n",
       "<p>10 rows × 23 columns</p>\n",
       "</div>"
      ],
      "text/plain": [
       "         DESTINATION IATA_CODE           AIRLINE AIRCRAFT            DATETIME  \\\n",
       "0            Larnaca       LCA     Edelweiss Air     A320 2025-04-28 05:45:00   \n",
       "1           Pristina       PRN    Chair Airlines     A319 2025-04-28 05:45:00   \n",
       "2             London       LCY             Swiss     BCS1 2025-04-28 06:55:00   \n",
       "3  Palma de Mallorca       PMI             Swiss     A321 2025-04-28 06:50:00   \n",
       "4             Madrid       MAD  Helvetic Airways     E295 2025-04-28 06:55:00   \n",
       "5           Belgrade       BEG             Swiss     BCS3 2025-04-28 06:55:00   \n",
       "6           Brindisi       BDS             Swiss     A320 2025-04-28 06:50:00   \n",
       "7           Hurghada       HRG    Chair Airlines     A320 2025-04-28 06:45:00   \n",
       "8            Funchal       FNC     Edelweiss Air     A320 2025-04-28 06:45:00   \n",
       "9             Bilbao       BIO     Edelweiss Air     A320 2025-04-28 06:45:00   \n",
       "\n",
       "  DEPART_TIME      DEPART_DATETIME  DELAY_MINUTES        DATETIME_HOUR  \\\n",
       "0       06:02  2025-04-28 06:02:00             17  2025-04-28 05:00:00   \n",
       "1       06:00  2025-04-28 06:00:00             15  2025-04-28 05:00:00   \n",
       "2       07:34  2025-04-28 07:34:00             39  2025-04-28 06:00:00   \n",
       "3       07:11  2025-04-28 07:11:00             21  2025-04-28 06:00:00   \n",
       "4       07:13  2025-04-28 07:13:00             18  2025-04-28 06:00:00   \n",
       "5       07:14  2025-04-28 07:14:00             19  2025-04-28 06:00:00   \n",
       "6       07:17  2025-04-28 07:17:00             27  2025-04-28 06:00:00   \n",
       "7       06:52  2025-04-28 06:52:00              7  2025-04-28 06:00:00   \n",
       "8       07:00  2025-04-28 07:00:00             15  2025-04-28 06:00:00   \n",
       "9       07:02  2025-04-28 07:02:00             17  2025-04-28 06:00:00   \n",
       "\n",
       "   Weather_Condition  ...  Total_Precipitation  Wind_Direction  \\\n",
       "0                  5  ...                  0.0             309   \n",
       "1                  5  ...                  0.0             309   \n",
       "2                  5  ...                  0.0             192   \n",
       "3                  5  ...                  0.0             192   \n",
       "4                  5  ...                  0.0             192   \n",
       "5                  5  ...                  0.0             192   \n",
       "6                  5  ...                  0.0             192   \n",
       "7                  5  ...                  0.0             192   \n",
       "8                  5  ...                  0.0             192   \n",
       "9                  5  ...                  0.0             192   \n",
       "\n",
       "   Average_Wind_Speed  Wind_Peak_Gust  SeaLevel_Air_Pressure  DEST_CODE  \\\n",
       "0                   6             9.3                 1025.3        120   \n",
       "1                   6             9.3                 1025.3        189   \n",
       "2                   3             8.0                 1025.2        130   \n",
       "3                   3             8.0                 1025.2        176   \n",
       "4                   3             8.0                 1025.2        135   \n",
       "5                   3             8.0                 1025.2         20   \n",
       "6                   3             8.0                 1025.2         37   \n",
       "7                   3             8.0                 1025.2         99   \n",
       "8                   3             8.0                 1025.2         84   \n",
       "9                   3             8.0                 1025.2         24   \n",
       "\n",
       "   AIRLINE_CODE  AIRCRAFT_CODE  Weekday  Weekday_name  \n",
       "0            52              5        0        Monday  \n",
       "1            41              4        0        Monday  \n",
       "2           141             28        0        Monday  \n",
       "3           141              6        0        Monday  \n",
       "4            81             55        0        Monday  \n",
       "5           141             29        0        Monday  \n",
       "6           141              5        0        Monday  \n",
       "7            41              5        0        Monday  \n",
       "8            52              5        0        Monday  \n",
       "9            52              5        0        Monday  \n",
       "\n",
       "[10 rows x 23 columns]"
      ]
     },
     "execution_count": 47,
     "metadata": {},
     "output_type": "execute_result"
    }
   ],
   "source": [
    "df.head(10)"
   ]
  },
  {
   "cell_type": "code",
   "execution_count": 48,
   "id": "1594f965",
   "metadata": {},
   "outputs": [],
   "source": [
    "# Create train and test samples\n",
    "X_train, X_test, y_train, y_test = train_test_split(df[['DEST_CODE', 'AIRLINE_CODE', 'AIRCRAFT_CODE', 'Weather_Condition', 'Temperature', 'Dew_Point', 'Relative_Humidity',\n",
    "       'Total_Precipitation', 'Wind_Direction', 'Average_Wind_Speed', 'Wind_Peak_Gust', 'SeaLevel_Air_Pressure', 'Weekday']], \n",
    "                                                         df['DELAY_MINUTES'], \n",
    "                                                        test_size=0.20, \n",
    "                                                        random_state=42)"
   ]
  },
  {
   "cell_type": "code",
   "execution_count": 49,
   "id": "f808f692",
   "metadata": {},
   "outputs": [
    {
     "name": "stdout",
     "output_type": "stream",
     "text": [
      "Train score:  0.09091669157479865\n",
      "Test score:  0.0739375486458187\n",
      "Train RMSE:  16.950286596141417\n",
      "Test RMSE:  18.18505171763986\n"
     ]
    }
   ],
   "source": [
    "# train linear_model = LinearRegression()\n",
    "linear_model = LinearRegression()\n",
    "\n",
    "# Fit the model\n",
    "linear_model.fit(X_train, y_train)\n",
    "print(\"Train score: \", linear_model.score(X_train, y_train))\n",
    "print(\"Test score: \", linear_model.score(X_test, y_test))\n",
    "\n",
    "print(\"Train RMSE: \", root_mean_squared_error(y_train, linear_model.predict(X_train)))\n",
    "print(\"Test RMSE: \", root_mean_squared_error(y_test, linear_model.predict(X_test)))\n",
    " "
   ]
  },
  {
   "cell_type": "code",
   "execution_count": 50,
   "id": "28d08916",
   "metadata": {},
   "outputs": [
    {
     "name": "stdout",
     "output_type": "stream",
     "text": [
      "Train score:  0.8846540407847866\n",
      "Test score:  0.16959030687391163\n",
      "Train RMSE:  6.037767651371804\n",
      "Test RMSE:  17.22029582112928\n"
     ]
    }
   ],
   "source": [
    "# train random_forest_model = RandomForestRegressor()\n",
    "random_forest_model = RandomForestRegressor(random_state=42)\n",
    "\n",
    "# Fit the model\n",
    "random_forest_model.fit(X_train, y_train)\n",
    "print(\"Train score: \", random_forest_model.score(X_train, y_train))\n",
    "print(\"Test score: \", random_forest_model.score(X_test, y_test))\n",
    "\n",
    "print(\"Train RMSE: \", root_mean_squared_error(y_train, random_forest_model.predict(X_train)))\n",
    "print(\"Test RMSE: \", root_mean_squared_error(y_test, random_forest_model.predict(X_test)))"
   ]
  },
  {
   "cell_type": "code",
   "execution_count": 51,
   "id": "125de703",
   "metadata": {},
   "outputs": [
    {
     "name": "stdout",
     "output_type": "stream",
     "text": [
      "['DEST_CODE' 'AIRCRAFT_CODE' 'AIRLINE_CODE' 'Wind_Peak_Gust'\n",
      " 'SeaLevel_Air_Pressure' 'Temperature' 'Wind_Direction' 'Dew_Point'\n",
      " 'Relative_Humidity' 'Average_Wind_Speed' 'Weather_Condition' 'Weekday'\n",
      " 'Total_Precipitation']\n",
      "[0.23073957 0.14007137 0.13423083 0.11800566 0.07453    0.05696483\n",
      " 0.05023456 0.0455579  0.04316279 0.03936866 0.03252945 0.02732266\n",
      " 0.00728174]\n"
     ]
    },
    {
     "data": {
      "text/plain": [
       "<Axes: ylabel='features'>"
      ]
     },
     "execution_count": 51,
     "metadata": {},
     "output_type": "execute_result"
    },
    {
     "data": {
      "image/png": "[encoded data removed]",
      "text/plain": [
       "<Figure size 600x300 with 1 Axes>"
      ]
     },
     "metadata": {},
     "output_type": "display_data"
    }
   ],
   "source": [
    "cols = random_forest_model.feature_names_in_\n",
    "\n",
    "# Derive feature importance from random forest\n",
    "importances = random_forest_model.feature_importances_\n",
    "std         = np.std([tree.feature_importances_ for tree in random_forest_model.estimators_], axis=0)\n",
    "indices     = np.argsort(importances)[::-1]\n",
    "\n",
    "# Print col-names and importances-values\n",
    "print( cols[indices] )\n",
    "print( importances[indices] )\n",
    "\n",
    "# Barplot with feature importance\n",
    "df_fi = pd.DataFrame({'features':cols,'importances': importances})\n",
    "df_fi.sort_values('importances', inplace=True)\n",
    "df_fi.plot(kind='barh', \n",
    "           y='importances',\n",
    "           x='features', \n",
    "           color='darkred', \n",
    "           figsize=(6,3))"
   ]
  },
  {
   "cell_type": "code",
   "execution_count": 52,
   "id": "2b7943d5",
   "metadata": {},
   "outputs": [],
   "source": [
    "# Create train and test samples\n",
    "X_train, X_test, y_train, y_test = train_test_split(df[['DEST_CODE', 'Wind_Peak_Gust','AIRLINE_CODE', 'AIRCRAFT_CODE', 'Wind_Direction', 'SeaLevel_Air_Pressure', 'Temperature']], \n",
    "                                                         df['DELAY_MINUTES'], \n",
    "                                                        test_size=0.20, \n",
    "                                                        random_state=42)"
   ]
  },
  {
   "cell_type": "code",
   "execution_count": 53,
   "id": "09cae00d",
   "metadata": {},
   "outputs": [
    {
     "name": "stdout",
     "output_type": "stream",
     "text": [
      "Train score:  0.07442340351549936\n",
      "Test score:  0.057931020828209\n",
      "Train RMSE:  17.103357995516514\n",
      "Test RMSE:  18.34153819363905\n"
     ]
    }
   ],
   "source": [
    "# train linear_model = LinearRegression()\n",
    "linear_model = LinearRegression()\n",
    "\n",
    "# Fit the model\n",
    "linear_model.fit(X_train, y_train)\n",
    "print(\"Train score: \", linear_model.score(X_train, y_train))\n",
    "print(\"Test score: \", linear_model.score(X_test, y_test))\n",
    "\n",
    "print(\"Train RMSE: \", root_mean_squared_error(y_train, linear_model.predict(X_train)))\n",
    "print(\"Test RMSE: \", root_mean_squared_error(y_test, linear_model.predict(X_test)))\n",
    " "
   ]
  },
  {
   "cell_type": "code",
   "execution_count": 54,
   "id": "62b85003",
   "metadata": {},
   "outputs": [
    {
     "name": "stdout",
     "output_type": "stream",
     "text": [
      "Train score:  0.8856626431745954\n",
      "Test score:  0.16877083614690203\n",
      "Train RMSE:  6.011312118060421\n",
      "Test RMSE:  17.22879045261057\n"
     ]
    }
   ],
   "source": [
    "# train random_forest_model = RandomForestRegressor()\n",
    "random_forest_model = RandomForestRegressor(random_state=42)\n",
    "\n",
    "# Fit the model\n",
    "random_forest_model.fit(X_train, y_train)\n",
    "print(\"Train score: \", random_forest_model.score(X_train, y_train))\n",
    "print(\"Test score: \", random_forest_model.score(X_test, y_test))\n",
    "\n",
    "print(\"Train RMSE: \", root_mean_squared_error(y_train, random_forest_model.predict(X_train)))\n",
    "print(\"Test RMSE: \", root_mean_squared_error(y_test, random_forest_model.predict(X_test)))"
   ]
  },
  {
   "cell_type": "code",
   "execution_count": 55,
   "id": "68fd85fc",
   "metadata": {},
   "outputs": [
    {
     "name": "stdout",
     "output_type": "stream",
     "text": [
      "['DEST_CODE' 'Wind_Peak_Gust' 'AIRCRAFT_CODE' 'SeaLevel_Air_Pressure'\n",
      " 'AIRLINE_CODE' 'Temperature' 'Wind_Direction']\n",
      "[0.23524904 0.14942096 0.14380468 0.14059008 0.13943145 0.10280706\n",
      " 0.08869672]\n"
     ]
    },
    {
     "data": {
      "text/plain": [
       "<Axes: ylabel='features'>"
      ]
     },
     "execution_count": 55,
     "metadata": {},
     "output_type": "execute_result"
    },
    {
     "data": {
      "image/png": "[encoded data removed]",
      "text/plain": [
       "<Figure size 600x300 with 1 Axes>"
      ]
     },
     "metadata": {},
     "output_type": "display_data"
    }
   ],
   "source": [
    "cols = random_forest_model.feature_names_in_\n",
    "\n",
    "# Derive feature importance from random forest\n",
    "importances = random_forest_model.feature_importances_\n",
    "std         = np.std([tree.feature_importances_ for tree in random_forest_model.estimators_], axis=0)\n",
    "indices     = np.argsort(importances)[::-1]\n",
    "\n",
    "# Print col-names and importances-values\n",
    "print( cols[indices] )\n",
    "print( importances[indices] )\n",
    "\n",
    "# Barplot with feature importance\n",
    "df_fi = pd.DataFrame({'features':cols,'importances': importances})\n",
    "df_fi.sort_values('importances', inplace=True)\n",
    "df_fi.plot(kind='barh', \n",
    "           y='importances',\n",
    "           x='features', \n",
    "           color='darkred', \n",
    "           figsize=(6,3))"
   ]
  },
  {
   "cell_type": "code",
   "execution_count": 56,
   "id": "d8b54efc",
   "metadata": {},
   "outputs": [
    {
     "name": "stdout",
     "output_type": "stream",
     "text": [
      "CV R² mean: 0.1815715202333777\n"
     ]
    }
   ],
   "source": [
    "from sklearn.model_selection import cross_val_score\n",
    "scores = cross_val_score(random_forest_model, X_train, y_train, cv=5, scoring='r2')\n",
    "print(\"CV R² mean:\", scores.mean())\n"
   ]
  },
  {
   "cell_type": "code",
   "execution_count": 57,
   "id": "380e84a7",
   "metadata": {},
   "outputs": [],
   "source": [
    "# Features (X) und Zielvariable (y) festlegen\n",
    "X = df[['DEST_CODE', 'Wind_Peak_Gust','AIRLINE_CODE', 'AIRCRAFT_CODE', 'Wind_Direction', 'SeaLevel_Air_Pressure', 'Temperature']]\n",
    "y = df['DELAY_MINUTES'] "
   ]
  },
  {
   "cell_type": "code",
   "execution_count": 58,
   "id": "b52b48ac",
   "metadata": {},
   "outputs": [
    {
     "name": "stdout",
     "output_type": "stream",
     "text": [
      "Cross-validation accuracy: -0.1019\n",
      "Training accuracy: 0.8872\n"
     ]
    }
   ],
   "source": [
    "# Trainiere das Modell (Verwendung von RandomForestRegressor für Preisvorhersage)\n",
    "model = RandomForestRegressor(random_state=42)\n",
    "cross_val_scores = cross_val_score(model, X, y, cv=5)\n",
    "print(f\"Cross-validation accuracy: {np.mean(cross_val_scores):.4f}\")\n",
    "\n",
    "# Train on the full dataset\n",
    "model.fit(X, y)\n",
    "train_accuracy = model.score(X, y)\n",
    "print(f\"Training accuracy: {train_accuracy:.4f}\")"
   ]
  },
  {
   "cell_type": "code",
   "execution_count": 59,
   "id": "e7d4ed11",
   "metadata": {},
   "outputs": [],
   "source": [
    "# Gradio-Vorhersagefunktion\n",
    "def predict(DEST_CODE, AIRLINE_CODE, AIRCRAFT_CODE, SeaLevel_Air_Pressure, Wind_Direction, Wind_Peak_Gust, Temperature):\n",
    "    input_data = [[DEST_CODE, AIRLINE_CODE, AIRCRAFT_CODE, SeaLevel_Air_Pressure, Wind_Direction, Wind_Peak_Gust, Temperature]]\n",
    "    prediction = model.predict(input_data)[0]\n",
    "    return round(prediction)"
   ]
  },
  {
   "cell_type": "code",
   "execution_count": 60,
   "id": "58a612c6",
   "metadata": {},
   "outputs": [
    {
     "name": "stderr",
     "output_type": "stream",
     "text": [
      "/home/codespace/.local/lib/python3.12/site-packages/sklearn/utils/validation.py:2739: UserWarning: X does not have valid feature names, but RandomForestRegressor was fitted with feature names\n",
      "  warnings.warn(\n"
     ]
    },
    {
     "data": {
      "text/plain": [
       "42"
      ]
     },
     "execution_count": 60,
     "metadata": {},
     "output_type": "execute_result"
    }
   ],
   "source": [
    "predict(10, 88, 88, 1025.2, 309, 20, 20)"
   ]
  },
  {
   "cell_type": "code",
   "execution_count": null,
   "id": "f5104d74",
   "metadata": {},
   "outputs": [
    {
     "name": "stdout",
     "output_type": "stream",
     "text": [
      "* Running on local URL:  http://127.0.0.1:7867\n",
      "* Running on public URL: https://ca528271fd9500d5f9.gradio.live\n",
      "\n",
      "This share link expires in 1 week. For free permanent hosting and GPU upgrades, run `gradio deploy` from the terminal in the working directory to deploy to Hugging Face Spaces (https://huggingface.co/spaces)\n"
     ]
    },
    {
     "data": {
      "text/html": [
       "<div><iframe src=\"https://ca528271fd9500d5f9.gradio.live\" width=\"100%\" height=\"500\" allow=\"autoplay; camera; microphone; clipboard-read; clipboard-write;\" frameborder=\"0\" allowfullscreen></iframe></div>"
      ],
      "text/plain": [
       "<IPython.core.display.HTML object>"
      ]
     },
     "metadata": {},
     "output_type": "display_data"
    },
    {
     "data": {
      "text/plain": []
     },
     "execution_count": 68,
     "metadata": {},
     "output_type": "execute_result"
    },
    {
     "name": "stderr",
     "output_type": "stream",
     "text": [
      "/home/codespace/.local/lib/python3.12/site-packages/sklearn/utils/validation.py:2739: UserWarning: X does not have valid feature names, but RandomForestRegressor was fitted with feature names\n",
      "  warnings.warn(\n",
      "/home/codespace/.local/lib/python3.12/site-packages/sklearn/utils/validation.py:2739: UserWarning: X does not have valid feature names, but RandomForestRegressor was fitted with feature names\n",
      "  warnings.warn(\n",
      "/home/codespace/.local/lib/python3.12/site-packages/sklearn/utils/validation.py:2739: UserWarning: X does not have valid feature names, but RandomForestRegressor was fitted with feature names\n",
      "  warnings.warn(\n"
     ]
    }
   ],
   "source": [
    "# Wetterdaten einlesen\n",
    "forecast = pd.read_csv(\"forecast.csv\")\n",
    "forecast[\"time\"] = pd.to_datetime(forecast[\"time\"])\n",
    "\n",
    "# Mappings vorbereiten\n",
    "destinations = sorted(df['DESTINATION'].unique().tolist())\n",
    "airlines = sorted(df['AIRLINE'].unique().tolist())\n",
    "aircrafts = sorted(df['AIRCRAFT'].unique().tolist())\n",
    "\n",
    "city_to_code = dict(zip(df['DESTINATION'], df['DEST_CODE']))\n",
    "airline_to_code = dict(zip(df['AIRLINE'], df['AIRLINE_CODE']))\n",
    "aircraft_to_code = dict(zip(df['AIRCRAFT'], df['AIRCRAFT_CODE']))\n",
    "\n",
    "# Nur Datumsteile extrahieren aus forecast\n",
    "available_dates = sorted(forecast[\"time\"].dt.strftime(\"%d.%m.%Y\").unique().tolist())\n",
    "\n",
    "# Uhrzeiten von 05:00 bis 23:00\n",
    "available_hours = [f\"{hour:02d}:00\" for hour in range(5, 24)]\n",
    "\n",
    "# Vorhersagefunktion\n",
    "def predict(destination, airline, aircraft, datum, uhrzeit):\n",
    "    try:\n",
    "        datetime_input = pd.to_datetime(f\"{datum} {uhrzeit}\", format=\"%d.%m.%Y %H:%M\")\n",
    "    except:\n",
    "        return \"Invalid date or time format.\"\n",
    "\n",
    "    row = forecast[forecast[\"time\"] == datetime_input]\n",
    "    if row.empty:\n",
    "        return \"No weather data available for the selected combination.\"\n",
    "\n",
    "    # Wetterwerte aus forecast.csv lesen\n",
    "    sea_level_pressure = row[\"pres\"].values[0]\n",
    "    wind_direction = row[\"wdir\"].values[0]\n",
    "    wind_peak_gust = row[\"wpgt\"].values[0]\n",
    "    temperature = row[\"temp\"].values[0]\n",
    "\n",
    "    # Mappings abrufen\n",
    "    DEST_CODE = city_to_code.get(destination)\n",
    "    AIRLINE_CODE = airline_to_code.get(airline)\n",
    "    AIRCRAFT_CODE = aircraft_to_code.get(aircraft)\n",
    "\n",
    "    # Prüfung\n",
    "    if None in [DEST_CODE, AIRLINE_CODE, AIRCRAFT_CODE]:\n",
    "        return \"Invalid input for destination, airline, or aircraft.\"\n",
    "\n",
    "    # Modellinput\n",
    "    input_data = [[DEST_CODE, wind_peak_gust, AIRLINE_CODE, AIRCRAFT_CODE, wind_direction, sea_level_pressure, temperature]]\n",
    "\n",
    "    # Vorhersage berechnen\n",
    "    prediction = model.predict(input_data)[0]\n",
    "\n",
    "    return f\"We estimate a {round(prediction)} minute delay for your {airline} flight to {destination}.\"\n",
    "\n",
    "# Gradio Interface\n",
    "demo = gr.Interface(\n",
    "    fn=predict,\n",
    "    inputs=[\n",
    "        gr.Dropdown(choices=destinations, label=\"Destination\", value=None),\n",
    "        gr.Dropdown(choices=airlines, label=\"Airline\", value=None),\n",
    "        gr.Dropdown(choices=aircrafts, label=\"Aircraft\", value=None),\n",
    "        gr.Dropdown(choices=available_dates, label=\"Date\", value=None),\n",
    "        gr.Dropdown(choices=available_hours, label=\"Time\", value=None),\n",
    "    ],\n",
    "    outputs=\"text\",\n",
    "    title=\"ZRH Flight Delay Prediction\",\n",
    "    description=\"Select destination, airline, aircraft, as well as date and time (based on available forecast weather data) to predict the delay.\",\n",
    "    examples=[\n",
    "        [\"London\", \"Swiss\", \"A21N\", \"23.05.2025\", \"07:00\"],\n",
    "        [\"Lisbon\", \"TAP Air Portugal\", \"A320\", \"24.05.2025\", \"12:00\"],\n",
    "        [\"Abu Dhabi\", \"Etihad Airways\", \"B789\", \"25.05.2025\", \"11:00\"],\n",
    "        [\"Paris\", \"Air France\", \"BCS3\", \"26.05.2025\", \"14:00\"],\n",
    "        [\"Cape Town\", \"Edelweiss Air\", \"A343\", \"27.05.2025\", \"22:00\"],\n",
    "    ]\n",
    ")\n",
    "\n",
    "demo.launch(share=True)\n"
   ]
  },
  {
   "cell_type": "markdown",
   "id": "fb37035c",
   "metadata": {},
   "source": [
    "## Saving Model zrh-flight-delay"
   ]
  },
  {
   "cell_type": "code",
   "execution_count": 69,
   "id": "74a29236",
   "metadata": {},
   "outputs": [],
   "source": [
    "import pickle\n",
    "\n",
    "model_filename = \"zrh-flight-delay.pkl\"\n",
    "with open(model_filename, mode=\"wb\") as f:\n",
    "    pickle.dump(model, f)\n"
   ]
  }
 ],
 "metadata": {
  "kernelspec": {
   "display_name": "Python 3",
   "language": "python",
   "name": "python3"
  },
  "language_info": {
   "codemirror_mode": {
    "name": "ipython",
    "version": 3
   },
   "file_extension": ".py",
   "mimetype": "text/x-python",
   "name": "python",
   "nbconvert_exporter": "python",
   "pygments_lexer": "ipython3",
   "version": "3.12.1"
  }
 },
 "nbformat": 4,
 "nbformat_minor": 5
}
